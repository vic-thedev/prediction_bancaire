{
 "cells": [
  {
   "cell_type": "code",
   "execution_count": 1,
   "id": "5e4e2941",
   "metadata": {
    "_cell_guid": "b1076dfc-b9ad-4769-8c92-a6c4dae69d19",
    "_uuid": "8f2839f25d086af736a60e9eeb907d3b93b6e0e5",
    "execution": {
     "iopub.execute_input": "2022-10-02T10:01:28.329733Z",
     "iopub.status.busy": "2022-10-02T10:01:28.329228Z",
     "iopub.status.idle": "2022-10-02T10:01:28.345110Z",
     "shell.execute_reply": "2022-10-02T10:01:28.343846Z"
    },
    "papermill": {
     "duration": 0.027383,
     "end_time": "2022-10-02T10:01:28.347883",
     "exception": false,
     "start_time": "2022-10-02T10:01:28.320500",
     "status": "completed"
    },
    "tags": [],
    "pycharm": {
     "name": "#%%\n"
    }
   },
   "outputs": [
    {
     "name": "stdout",
     "output_type": "stream",
     "text": [
      "/kaggle/input/home-credit-default-risk/sample_submission.csv\n",
      "/kaggle/input/home-credit-default-risk/bureau_balance.csv\n",
      "/kaggle/input/home-credit-default-risk/POS_CASH_balance.csv\n",
      "/kaggle/input/home-credit-default-risk/application_train.csv\n",
      "/kaggle/input/home-credit-default-risk/HomeCredit_columns_description.csv\n",
      "/kaggle/input/home-credit-default-risk/application_test.csv\n",
      "/kaggle/input/home-credit-default-risk/previous_application.csv\n",
      "/kaggle/input/home-credit-default-risk/credit_card_balance.csv\n",
      "/kaggle/input/home-credit-default-risk/installments_payments.csv\n",
      "/kaggle/input/home-credit-default-risk/bureau.csv\n"
     ]
    }
   ],
   "source": [
    "# This Python 3 environment comes with many helpful analytics libraries installed\n",
    "# It is defined by the kaggle/python Docker image: https://github.com/kaggle/docker-python\n",
    "# For example, here's several helpful packages to load\n",
    "\n",
    "#version proposée par notebook75af682bf5\n",
    "import numpy as np # linear algebra\n",
    "import pandas as pd # data processing, CSV file I/O (e.g. pd.read_csv)\n",
    "\n",
    "# Input data files are available in the read-only \"../input/\" directory\n",
    "# For example, running this (by clicking run or pressing Shift+Enter) will list all files under the input directory\n",
    "\n",
    "import os\n",
    "for dirname, _, filenames in os.walk('/kaggle/input'):\n",
    "    for filename in filenames:\n",
    "        print(os.path.join(dirname, filename))\n",
    "\n",
    "# You can write up to 20GB to the current directory (/kaggle/working/) that gets preserved as output when you create a version using \"Save & Run All\" \n",
    "# You can also write temporary files to /kaggle/temp/, but they won't be saved outside of the current session"
   ]
  },
  {
   "cell_type": "code",
   "execution_count": 2,
   "id": "600a9aec",
   "metadata": {
    "execution": {
     "iopub.execute_input": "2022-10-02T10:01:28.362601Z",
     "iopub.status.busy": "2022-10-02T10:01:28.361785Z",
     "iopub.status.idle": "2022-10-02T10:01:37.461465Z",
     "shell.execute_reply": "2022-10-02T10:01:37.458828Z"
    },
    "papermill": {
     "duration": 9.11504,
     "end_time": "2022-10-02T10:01:37.468989",
     "exception": false,
     "start_time": "2022-10-02T10:01:28.353949",
     "status": "completed"
    },
    "tags": [],
    "pycharm": {
     "name": "#%%\n"
    }
   },
   "outputs": [],
   "source": [
    "import pandas as pd\n",
    "import numpy as np\n",
    "import matplotlib.pyplot as plt\n",
    "import seaborn  as sns\n",
    "\n",
    "import warnings\n",
    "\n",
    "df= pd.read_csv(\"data/application_train.csv\")\n",
    "test = pd.read_csv(\"data/application_test.csv\")\n",
    "df = df[df['AMT_INCOME_TOTAL']<=395164.7058274159]"
   ]
  },
  {
   "cell_type": "code",
   "execution_count": 3,
   "id": "97bc341b",
   "metadata": {
    "execution": {
     "iopub.execute_input": "2022-10-02T10:01:37.489386Z",
     "iopub.status.busy": "2022-10-02T10:01:37.488981Z",
     "iopub.status.idle": "2022-10-02T10:01:37.646508Z",
     "shell.execute_reply": "2022-10-02T10:01:37.644677Z"
    },
    "papermill": {
     "duration": 0.172532,
     "end_time": "2022-10-02T10:01:37.652928",
     "exception": false,
     "start_time": "2022-10-02T10:01:37.480396",
     "status": "completed"
    },
    "tags": [],
    "pycharm": {
     "name": "#%%\n"
    }
   },
   "outputs": [
    {
     "data": {
      "image/png": "[encoded data removed]",
      "text/plain": [
       "<Figure size 432x288 with 1 Axes>"
      ]
     },
     "metadata": {},
     "output_type": "display_data"
    }
   ],
   "source": [
    "plt.pie(df['TARGET'].value_counts(),\n",
    "       labels=[0,1], counterclock=False, startangle=90,\n",
    "       autopct='%1.1f%%', pctdistance=0.7,)\n",
    "\n",
    "plt.show()"
   ]
  },
  {
   "cell_type": "code",
   "execution_count": 4,
   "id": "75fcadbd",
   "metadata": {
    "execution": {
     "iopub.execute_input": "2022-10-02T10:01:37.687485Z",
     "iopub.status.busy": "2022-10-02T10:01:37.686442Z",
     "iopub.status.idle": "2022-10-02T10:01:37.755637Z",
     "shell.execute_reply": "2022-10-02T10:01:37.754446Z"
    },
    "papermill": {
     "duration": 0.090383,
     "end_time": "2022-10-02T10:01:37.758563",
     "exception": false,
     "start_time": "2022-10-02T10:01:37.668180",
     "status": "completed"
    },
    "tags": [],
    "pycharm": {
     "name": "#%%\n"
    }
   },
   "outputs": [],
   "source": [
    "df_1 = df[df['TARGET'] == 1]\n",
    "def bar_1(col):\n",
    "    df_1_pie = pd.DataFrame(df_1.groupby(col).count()['TARGET']/ df.groupby(col).count()['TARGET']).reset_index().sort_values('TARGET')\n",
    "    df_1_pie['TARGET'] = df_1_pie['TARGET']*100\n",
    "    sns.barplot(y=df_1_pie[col], x=df_1_pie['TARGET'])\n",
    "    plt.show()\n",
    "    print(df_1_pie)\n",
    "    \n",
    "    \n",
    "def bar_2(col):\n",
    "    df_1_pie = pd.DataFrame(df_1.groupby(col).count()['TARGET']/ df.groupby(col).count()['TARGET']).reset_index().sort_values('TARGET')\n",
    "    df_1_pie['TARGET'] = df_1_pie['TARGET']*100\n",
    "    sns.barplot(x=df_1_pie[col], y=df_1_pie['TARGET'])\n",
    "    plt.show()\n",
    "    print(df_1_pie)"
   ]
  },
  {
   "cell_type": "code",
   "execution_count": 5,
   "id": "425c2b20",
   "metadata": {
    "execution": {
     "iopub.execute_input": "2022-10-02T10:01:37.773091Z",
     "iopub.status.busy": "2022-10-02T10:01:37.772341Z",
     "iopub.status.idle": "2022-10-02T10:01:38.933383Z",
     "shell.execute_reply": "2022-10-02T10:01:38.931113Z"
    },
    "papermill": {
     "duration": 1.172935,
     "end_time": "2022-10-02T10:01:38.937700",
     "exception": false,
     "start_time": "2022-10-02T10:01:37.764765",
     "status": "completed"
    },
    "tags": [],
    "pycharm": {
     "name": "#%%\n"
    }
   },
   "outputs": [
    {
     "data": {
      "image/png": "[encoded data removed]",
      "text/plain": [
       "<Figure size 432x288 with 1 Axes>"
      ]
     },
     "metadata": {
      "needs_background": "light"
     },
     "output_type": "display_data"
    },
    {
     "name": "stdout",
     "output_type": "stream",
     "text": [
      "  FLAG_OWN_CAR    TARGET\n",
      "1            Y  7.342559\n",
      "0            N  8.529818\n"
     ]
    }
   ],
   "source": [
    "bar_1('FLAG_OWN_CAR')"
   ]
  },
  {
   "cell_type": "code",
   "execution_count": 6,
   "id": "14693724",
   "metadata": {
    "execution": {
     "iopub.execute_input": "2022-10-02T10:01:38.957186Z",
     "iopub.status.busy": "2022-10-02T10:01:38.955446Z",
     "iopub.status.idle": "2022-10-02T10:01:40.014997Z",
     "shell.execute_reply": "2022-10-02T10:01:40.013657Z"
    },
    "papermill": {
     "duration": 1.072456,
     "end_time": "2022-10-02T10:01:40.017676",
     "exception": false,
     "start_time": "2022-10-02T10:01:38.945220",
     "status": "completed"
    },
    "tags": [],
    "pycharm": {
     "name": "#%%\n"
    }
   },
   "outputs": [
    {
     "data": {
      "image/png": "[encoded data removed]",
      "text/plain": [
       "<Figure size 432x288 with 1 Axes>"
      ]
     },
     "metadata": {
      "needs_background": "light"
     },
     "output_type": "display_data"
    },
    {
     "name": "stdout",
     "output_type": "stream",
     "text": [
      "  FLAG_OWN_REALTY    TARGET\n",
      "1               Y  8.018414\n",
      "0               N  8.396930\n"
     ]
    }
   ],
   "source": [
    "bar_1('FLAG_OWN_REALTY')"
   ]
  },
  {
   "cell_type": "code",
   "execution_count": 7,
   "id": "573ac34e",
   "metadata": {
    "execution": {
     "iopub.execute_input": "2022-10-02T10:01:40.034565Z",
     "iopub.status.busy": "2022-10-02T10:01:40.033296Z",
     "iopub.status.idle": "2022-10-02T10:01:41.236609Z",
     "shell.execute_reply": "2022-10-02T10:01:41.235510Z"
    },
    "papermill": {
     "duration": 1.21433,
     "end_time": "2022-10-02T10:01:41.239238",
     "exception": false,
     "start_time": "2022-10-02T10:01:40.024908",
     "status": "completed"
    },
    "tags": [],
    "pycharm": {
     "name": "#%%\n"
    }
   },
   "outputs": [
    {
     "data": {
      "image/png": "[encoded data removed]",
      "text/plain": [
       "<Figure size 432x288 with 1 Axes>"
      ]
     },
     "metadata": {
      "needs_background": "light"
     },
     "output_type": "display_data"
    },
    {
     "name": "stdout",
     "output_type": "stream",
     "text": [
      "    CNT_CHILDREN      TARGET\n",
      "5              5    7.500000\n",
      "0              0    7.761120\n",
      "2              2    8.802776\n",
      "1              1    9.023165\n",
      "3              3    9.747899\n",
      "4              4   13.235294\n",
      "6              6   28.571429\n",
      "9              9  100.000000\n",
      "11            11  100.000000\n",
      "7              7         NaN\n",
      "8              8         NaN\n",
      "10            10         NaN\n",
      "12            12         NaN\n",
      "13            14         NaN\n",
      "14            19         NaN\n"
     ]
    }
   ],
   "source": [
    "bar_2('CNT_CHILDREN')"
   ]
  },
  {
   "cell_type": "code",
   "execution_count": 8,
   "id": "c366f951",
   "metadata": {
    "execution": {
     "iopub.execute_input": "2022-10-02T10:01:41.255415Z",
     "iopub.status.busy": "2022-10-02T10:01:41.254988Z",
     "iopub.status.idle": "2022-10-02T10:01:43.630572Z",
     "shell.execute_reply": "2022-10-02T10:01:43.629522Z"
    },
    "papermill": {
     "duration": 2.386513,
     "end_time": "2022-10-02T10:01:43.633193",
     "exception": false,
     "start_time": "2022-10-02T10:01:41.246680",
     "status": "completed"
    },
    "tags": [],
    "pycharm": {
     "name": "#%%\n"
    }
   },
   "outputs": [
    {
     "name": "stderr",
     "output_type": "stream",
     "text": [
      "/opt/conda/lib/python3.7/site-packages/seaborn/distributions.py:2619: FutureWarning: `distplot` is a deprecated function and will be removed in a future version. Please adapt your code to use either `displot` (a figure-level function with similar flexibility) or `histplot` (an axes-level function for histograms).\n",
      "  warnings.warn(msg, FutureWarning)\n",
      "/opt/conda/lib/python3.7/site-packages/seaborn/distributions.py:2619: FutureWarning: `distplot` is a deprecated function and will be removed in a future version. Please adapt your code to use either `displot` (a figure-level function with similar flexibility) or `histplot` (an axes-level function for histograms).\n",
      "  warnings.warn(msg, FutureWarning)\n"
     ]
    },
    {
     "data": {
      "text/plain": [
       "<matplotlib.legend.Legend at 0x7f52fa36e0d0>"
      ]
     },
     "execution_count": 8,
     "metadata": {},
     "output_type": "execute_result"
    },
    {
     "data": {
      "image/png": "[encoded data removed]",
      "text/plain": [
       "<Figure size 432x288 with 1 Axes>"
      ]
     },
     "metadata": {
      "needs_background": "light"
     },
     "output_type": "display_data"
    }
   ],
   "source": [
    "sns.distplot(df[df['TARGET']==0]['AMT_CREDIT'])\n",
    "# plt.legend(labels=['0'])\n",
    "\n",
    "sns.distplot(df[df['TARGET']==1]['AMT_CREDIT'])\n",
    "plt.legend(labels=['0','1'])"
   ]
  },
  {
   "cell_type": "code",
   "execution_count": 9,
   "id": "56a7a549",
   "metadata": {
    "execution": {
     "iopub.execute_input": "2022-10-02T10:01:43.653066Z",
     "iopub.status.busy": "2022-10-02T10:01:43.652171Z",
     "iopub.status.idle": "2022-10-02T10:01:46.119077Z",
     "shell.execute_reply": "2022-10-02T10:01:46.117205Z"
    },
    "papermill": {
     "duration": 2.480766,
     "end_time": "2022-10-02T10:01:46.123623",
     "exception": false,
     "start_time": "2022-10-02T10:01:43.642857",
     "status": "completed"
    },
    "tags": [],
    "pycharm": {
     "name": "#%%\n"
    }
   },
   "outputs": [
    {
     "name": "stderr",
     "output_type": "stream",
     "text": [
      "/opt/conda/lib/python3.7/site-packages/seaborn/distributions.py:2619: FutureWarning: `distplot` is a deprecated function and will be removed in a future version. Please adapt your code to use either `displot` (a figure-level function with similar flexibility) or `histplot` (an axes-level function for histograms).\n",
      "  warnings.warn(msg, FutureWarning)\n",
      "/opt/conda/lib/python3.7/site-packages/seaborn/distributions.py:2619: FutureWarning: `distplot` is a deprecated function and will be removed in a future version. Please adapt your code to use either `displot` (a figure-level function with similar flexibility) or `histplot` (an axes-level function for histograms).\n",
      "  warnings.warn(msg, FutureWarning)\n"
     ]
    },
    {
     "data": {
      "text/plain": [
       "<matplotlib.legend.Legend at 0x7f52fa1dd0d0>"
      ]
     },
     "execution_count": 9,
     "metadata": {},
     "output_type": "execute_result"
    },
    {
     "data": {
      "image/png": "[encoded data removed]",
      "text/plain": [
       "<Figure size 432x288 with 1 Axes>"
      ]
     },
     "metadata": {
      "needs_background": "light"
     },
     "output_type": "display_data"
    }
   ],
   "source": [
    "\n",
    "sns.distplot(df[df['TARGET']==0]['AMT_INCOME_TOTAL'], bins=100)\n",
    "\n",
    "\n",
    "sns.distplot(df[df['TARGET']==1]['AMT_INCOME_TOTAL'], bins=100)\n",
    "plt.legend(labels=['0','1'])\n",
    "# plt.xlim(0,1e6)"
   ]
  },
  {
   "cell_type": "code",
   "execution_count": 10,
   "id": "dee655ba",
   "metadata": {
    "execution": {
     "iopub.execute_input": "2022-10-02T10:01:46.145919Z",
     "iopub.status.busy": "2022-10-02T10:01:46.145363Z",
     "iopub.status.idle": "2022-10-02T10:01:48.198976Z",
     "shell.execute_reply": "2022-10-02T10:01:48.197526Z"
    },
    "papermill": {
     "duration": 2.068196,
     "end_time": "2022-10-02T10:01:48.202664",
     "exception": false,
     "start_time": "2022-10-02T10:01:46.134468",
     "status": "completed"
    },
    "tags": [],
    "pycharm": {
     "name": "#%%\n"
    }
   },
   "outputs": [
    {
     "data": {
      "image/png": "[encoded data removed]",
      "text/plain": [
       "<Figure size 432x288 with 1 Axes>"
      ]
     },
     "metadata": {
      "needs_background": "light"
     },
     "output_type": "display_data"
    },
    {
     "name": "stdout",
     "output_type": "stream",
     "text": [
      "     NAME_FAMILY_STATUS     TARGET\n",
      "5                 Widow   5.860529\n",
      "1               Married   7.622057\n",
      "2             Separated   8.193223\n",
      "3  Single / not married   9.895763\n",
      "0        Civil marriage  10.015461\n",
      "4               Unknown        NaN\n"
     ]
    }
   ],
   "source": [
    "bar_1('NAME_FAMILY_STATUS')"
   ]
  },
  {
   "cell_type": "code",
   "execution_count": 11,
   "id": "8daf8f2e",
   "metadata": {
    "execution": {
     "iopub.execute_input": "2022-10-02T10:01:48.223078Z",
     "iopub.status.busy": "2022-10-02T10:01:48.222043Z",
     "iopub.status.idle": "2022-10-02T10:01:49.189775Z",
     "shell.execute_reply": "2022-10-02T10:01:49.188729Z"
    },
    "papermill": {
     "duration": 0.982761,
     "end_time": "2022-10-02T10:01:49.194178",
     "exception": false,
     "start_time": "2022-10-02T10:01:48.211417",
     "status": "completed"
    },
    "tags": [],
    "pycharm": {
     "name": "#%%\n"
    }
   },
   "outputs": [
    {
     "data": {
      "image/png": "[encoded data removed]",
      "text/plain": [
       "<Figure size 432x288 with 1 Axes>"
      ]
     },
     "metadata": {
      "needs_background": "light"
     },
     "output_type": "display_data"
    },
    {
     "name": "stdout",
     "output_type": "stream",
     "text": [
      "             NAME_EDUCATION_TYPE     TARGET\n",
      "0                Academic degree   2.040816\n",
      "1               Higher education   5.444245\n",
      "2              Incomplete higher   8.486677\n",
      "4  Secondary / secondary special   8.947312\n",
      "3                Lower secondary  10.973358\n"
     ]
    }
   ],
   "source": [
    "bar_1('NAME_EDUCATION_TYPE')"
   ]
  },
  {
   "cell_type": "code",
   "execution_count": 12,
   "id": "b092a444",
   "metadata": {
    "execution": {
     "iopub.execute_input": "2022-10-02T10:01:49.214571Z",
     "iopub.status.busy": "2022-10-02T10:01:49.214146Z",
     "iopub.status.idle": "2022-10-02T10:01:50.949691Z",
     "shell.execute_reply": "2022-10-02T10:01:50.948165Z"
    },
    "papermill": {
     "duration": 1.749184,
     "end_time": "2022-10-02T10:01:50.952393",
     "exception": false,
     "start_time": "2022-10-02T10:01:49.203209",
     "status": "completed"
    },
    "tags": [],
    "pycharm": {
     "name": "#%%\n"
    }
   },
   "outputs": [
    {
     "name": "stderr",
     "output_type": "stream",
     "text": [
      "/opt/conda/lib/python3.7/site-packages/seaborn/distributions.py:2619: FutureWarning: `distplot` is a deprecated function and will be removed in a future version. Please adapt your code to use either `displot` (a figure-level function with similar flexibility) or `histplot` (an axes-level function for histograms).\n",
      "  warnings.warn(msg, FutureWarning)\n",
      "/opt/conda/lib/python3.7/site-packages/seaborn/distributions.py:2619: FutureWarning: `distplot` is a deprecated function and will be removed in a future version. Please adapt your code to use either `displot` (a figure-level function with similar flexibility) or `histplot` (an axes-level function for histograms).\n",
      "  warnings.warn(msg, FutureWarning)\n"
     ]
    },
    {
     "data": {
      "text/plain": [
       "<matplotlib.legend.Legend at 0x7f52f9def690>"
      ]
     },
     "execution_count": 12,
     "metadata": {},
     "output_type": "execute_result"
    },
    {
     "data": {
      "image/png": "[encoded data removed]",
      "text/plain": [
       "<Figure size 432x288 with 1 Axes>"
      ]
     },
     "metadata": {
      "needs_background": "light"
     },
     "output_type": "display_data"
    }
   ],
   "source": [
    "sns.distplot(df[df['TARGET']==0]['EXT_SOURCE_1'], bins=100)\n",
    "\n",
    "\n",
    "sns.distplot(df[df['TARGET']==1]['EXT_SOURCE_1'], bins=100)\n",
    "plt.legend(labels=['0','1'])"
   ]
  },
  {
   "cell_type": "code",
   "execution_count": 13,
   "id": "22363b65",
   "metadata": {
    "execution": {
     "iopub.execute_input": "2022-10-02T10:01:50.974047Z",
     "iopub.status.busy": "2022-10-02T10:01:50.973598Z",
     "iopub.status.idle": "2022-10-02T10:01:53.147319Z",
     "shell.execute_reply": "2022-10-02T10:01:53.145979Z"
    },
    "papermill": {
     "duration": 2.187854,
     "end_time": "2022-10-02T10:01:53.150041",
     "exception": false,
     "start_time": "2022-10-02T10:01:50.962187",
     "status": "completed"
    },
    "tags": [],
    "pycharm": {
     "name": "#%%\n"
    }
   },
   "outputs": [
    {
     "name": "stderr",
     "output_type": "stream",
     "text": [
      "/opt/conda/lib/python3.7/site-packages/seaborn/distributions.py:2619: FutureWarning: `distplot` is a deprecated function and will be removed in a future version. Please adapt your code to use either `displot` (a figure-level function with similar flexibility) or `histplot` (an axes-level function for histograms).\n",
      "  warnings.warn(msg, FutureWarning)\n",
      "/opt/conda/lib/python3.7/site-packages/seaborn/distributions.py:2619: FutureWarning: `distplot` is a deprecated function and will be removed in a future version. Please adapt your code to use either `displot` (a figure-level function with similar flexibility) or `histplot` (an axes-level function for histograms).\n",
      "  warnings.warn(msg, FutureWarning)\n"
     ]
    },
    {
     "data": {
      "text/plain": [
       "<matplotlib.legend.Legend at 0x7f52f9b6fe90>"
      ]
     },
     "execution_count": 13,
     "metadata": {},
     "output_type": "execute_result"
    },
    {
     "data": {
      "image/png": "[encoded data removed]",
      "text/plain": [
       "<Figure size 432x288 with 1 Axes>"
      ]
     },
     "metadata": {
      "needs_background": "light"
     },
     "output_type": "display_data"
    }
   ],
   "source": [
    "sns.distplot(df[df['TARGET']==0]['EXT_SOURCE_2'], bins=100)\n",
    "\n",
    "\n",
    "sns.distplot(df[df['TARGET']==1]['EXT_SOURCE_2'], bins=100)\n",
    "plt.legend(labels=['0','1'])"
   ]
  },
  {
   "cell_type": "code",
   "execution_count": 14,
   "id": "0383e8f2",
   "metadata": {
    "execution": {
     "iopub.execute_input": "2022-10-02T10:01:53.175987Z",
     "iopub.status.busy": "2022-10-02T10:01:53.175540Z",
     "iopub.status.idle": "2022-10-02T10:01:55.078770Z",
     "shell.execute_reply": "2022-10-02T10:01:55.077341Z"
    },
    "papermill": {
     "duration": 1.917436,
     "end_time": "2022-10-02T10:01:55.081387",
     "exception": false,
     "start_time": "2022-10-02T10:01:53.163951",
     "status": "completed"
    },
    "tags": [],
    "pycharm": {
     "name": "#%%\n"
    }
   },
   "outputs": [
    {
     "name": "stderr",
     "output_type": "stream",
     "text": [
      "/opt/conda/lib/python3.7/site-packages/seaborn/distributions.py:2619: FutureWarning: `distplot` is a deprecated function and will be removed in a future version. Please adapt your code to use either `displot` (a figure-level function with similar flexibility) or `histplot` (an axes-level function for histograms).\n",
      "  warnings.warn(msg, FutureWarning)\n",
      "/opt/conda/lib/python3.7/site-packages/seaborn/distributions.py:2619: FutureWarning: `distplot` is a deprecated function and will be removed in a future version. Please adapt your code to use either `displot` (a figure-level function with similar flexibility) or `histplot` (an axes-level function for histograms).\n",
      "  warnings.warn(msg, FutureWarning)\n"
     ]
    },
    {
     "data": {
      "text/plain": [
       "<matplotlib.legend.Legend at 0x7f52fa8bf310>"
      ]
     },
     "execution_count": 14,
     "metadata": {},
     "output_type": "execute_result"
    },
    {
     "data": {
      "image/png": "[encoded data removed]",
      "text/plain": [
       "<Figure size 432x288 with 1 Axes>"
      ]
     },
     "metadata": {
      "needs_background": "light"
     },
     "output_type": "display_data"
    }
   ],
   "source": [
    "sns.distplot(df[df['TARGET']==0]['EXT_SOURCE_3'], bins=100)\n",
    "\n",
    "\n",
    "sns.distplot(df[df['TARGET']==1]['EXT_SOURCE_3'], bins=100)\n",
    "plt.legend(labels=['0','1'])"
   ]
  },
  {
   "cell_type": "code",
   "execution_count": 15,
   "id": "2b753ae9",
   "metadata": {
    "execution": {
     "iopub.execute_input": "2022-10-02T10:01:55.105773Z",
     "iopub.status.busy": "2022-10-02T10:01:55.105318Z",
     "iopub.status.idle": "2022-10-02T10:01:55.586812Z",
     "shell.execute_reply": "2022-10-02T10:01:55.585640Z"
    },
    "papermill": {
     "duration": 0.496761,
     "end_time": "2022-10-02T10:01:55.589785",
     "exception": false,
     "start_time": "2022-10-02T10:01:55.093024",
     "status": "completed"
    },
    "tags": [],
    "pycharm": {
     "name": "#%%\n"
    }
   },
   "outputs": [],
   "source": [
    "# ローンのクレジットに対する年収\n",
    "df['INCOME_CREDIT_PERC'] = df['AMT_INCOME_TOTAL'] / df['AMT_CREDIT']\n",
    "# 一人当たりの収入\n",
    "df['INCOME_PER_PERSON'] = df['AMT_INCOME_TOTAL'] / df['CNT_FAM_MEMBERS']\n",
    "# 収入に対する年金\n",
    "df['ANNUITY_INCOME_PERC'] = df['AMT_ANNUITY'] / df['AMT_INCOME_TOTAL']\n",
    "# ローンに対する年金\n",
    "df['PAYMENT_RATE'] = df['AMT_ANNUITY'] / df['AMT_CREDIT']\n",
    "\n",
    "# 何年働いているか\n",
    "df['DAYS_EMPLOYED_PERC'] = df['DAYS_EMPLOYED'] / df['DAYS_BIRTH']\n",
    "# 外部スコアの平均など\n",
    "df['APPS_EXT_SOURCE_MEAN'] = df[['EXT_SOURCE_1', 'EXT_SOURCE_2', 'EXT_SOURCE_3']].mean(axis=1)\n",
    "df['APPS_EXT_SOURCE_STD'] = df[['EXT_SOURCE_1', 'EXT_SOURCE_2', 'EXT_SOURCE_3']].std(axis=1)\n",
    "df['APPS_EXT_SOURCE_STD'] = df['APPS_EXT_SOURCE_STD'].fillna(df['APPS_EXT_SOURCE_STD'].mean())\n",
    "df['APP_EXT_SOURCE_2*EXT_SOURCE_3*DAYS_BIRTH'] = df['EXT_SOURCE_1'] * df['EXT_SOURCE_2'] *df['EXT_SOURCE_2'] * df['DAYS_BIRTH']\n",
    "\n",
    "# その他\n",
    "# Credit ratios\n",
    "df['CREDIT_TO_GOODS_RATIO'] = df['AMT_CREDIT'] / df['AMT_GOODS_PRICE']\n",
    "\n",
    "# Income ratios\n",
    "df['INCOME_TO_EMPLOYED_RATIO'] = df['AMT_INCOME_TOTAL'] / df['DAYS_EMPLOYED']\n",
    "df['INCOME_TO_BIRTH_RATIO'] = df['AMT_INCOME_TOTAL'] / df['DAYS_BIRTH']\n",
    "\n",
    "# Time ratios\n",
    "df['ID_TO_BIRTH_RATIO'] = df['DAYS_ID_PUBLISH'] / df['DAYS_BIRTH']\n",
    "df['CAR_TO_BIRTH_RATIO'] = df['OWN_CAR_AGE'] / df['DAYS_BIRTH']\n",
    "df['CAR_TO_EMPLOYED_RATIO'] = df['OWN_CAR_AGE'] / df['DAYS_EMPLOYED']\n",
    "df['PHONE_TO_BIRTH_RATIO'] = df['DAYS_LAST_PHONE_CHANGE'] / df['DAYS_BIRTH']\n",
    "\n",
    "\n",
    "\n",
    "# ---------------------------------------------\n",
    "\n",
    "\n",
    "# ローンのクレジットに対する年収\n",
    "test['INCOME_CREDIT_PERC'] = test['AMT_INCOME_TOTAL'] / test['AMT_CREDIT']\n",
    "# 一人当たりの収入\n",
    "test['INCOME_PER_PERSON'] = test['AMT_INCOME_TOTAL'] / test['CNT_FAM_MEMBERS']\n",
    "# 収入に対する年金\n",
    "test['ANNUITY_INCOME_PERC'] = test['AMT_ANNUITY'] / test['AMT_INCOME_TOTAL']\n",
    "# ローンに対する年金\n",
    "test['PAYMENT_RATE'] = test['AMT_ANNUITY'] / test['AMT_CREDIT']\n",
    "\n",
    "# 何年働いているか\n",
    "test['DAYS_EMPLOYED_PERC'] = test['DAYS_EMPLOYED'] / test['DAYS_BIRTH']\n",
    "# 外部スコアの平均など\n",
    "test['APPS_EXT_SOURCE_MEAN'] = test[['EXT_SOURCE_1', 'EXT_SOURCE_2', 'EXT_SOURCE_3']].mean(axis=1)\n",
    "test['APPS_EXT_SOURCE_STD'] = test[['EXT_SOURCE_1', 'EXT_SOURCE_2', 'EXT_SOURCE_3']].std(axis=1)\n",
    "test['APPS_EXT_SOURCE_STD'] = test['APPS_EXT_SOURCE_STD'].fillna(test['APPS_EXT_SOURCE_STD'].mean())\n",
    "test['APP_EXT_SOURCE_2*EXT_SOURCE_3*DAYS_BIRTH'] = test['EXT_SOURCE_1'] * test['EXT_SOURCE_2'] *test['EXT_SOURCE_2'] * df['DAYS_BIRTH']\n",
    "\n",
    "# その他\n",
    "# Credit ratios\n",
    "test['CREDIT_TO_GOODS_RATIO'] = test['AMT_CREDIT'] / test['AMT_GOODS_PRICE']\n",
    "\n",
    "# Income ratios\n",
    "test['INCOME_TO_EMPLOYED_RATIO'] = test['AMT_INCOME_TOTAL'] / test['DAYS_EMPLOYED']\n",
    "test['INCOME_TO_BIRTH_RATIO'] = test['AMT_INCOME_TOTAL'] / test['DAYS_BIRTH']\n",
    "\n",
    "# Time ratios\n",
    "test['ID_TO_BIRTH_RATIO'] = test['DAYS_ID_PUBLISH'] / test['DAYS_BIRTH']\n",
    "test['CAR_TO_BIRTH_RATIO'] = test['OWN_CAR_AGE'] / test['DAYS_BIRTH']\n",
    "test['CAR_TO_EMPLOYED_RATIO'] = test['OWN_CAR_AGE'] / test['DAYS_EMPLOYED']\n",
    "test['PHONE_TO_BIRTH_RATIO'] = test['DAYS_LAST_PHONE_CHANGE'] / test['DAYS_BIRTH']"
   ]
  },
  {
   "cell_type": "code",
   "execution_count": null,
   "id": "ba24157d",
   "metadata": {
    "execution": {
     "iopub.execute_input": "2022-07-27T08:21:50.500126Z",
     "iopub.status.busy": "2022-07-27T08:21:50.499121Z",
     "iopub.status.idle": "2022-07-27T08:21:50.520613Z",
     "shell.execute_reply": "2022-07-27T08:21:50.518466Z",
     "shell.execute_reply.started": "2022-07-27T08:21:50.500077Z"
    },
    "papermill": {
     "duration": 0.010646,
     "end_time": "2022-10-02T10:01:55.611589",
     "exception": false,
     "start_time": "2022-10-02T10:01:55.600943",
     "status": "completed"
    },
    "tags": [],
    "pycharm": {
     "name": "#%%\n"
    }
   },
   "outputs": [],
   "source": []
  },
  {
   "cell_type": "code",
   "execution_count": 16,
   "id": "90bbc5ac",
   "metadata": {
    "execution": {
     "iopub.execute_input": "2022-10-02T10:01:55.635876Z",
     "iopub.status.busy": "2022-10-02T10:01:55.635382Z",
     "iopub.status.idle": "2022-10-02T10:01:57.720371Z",
     "shell.execute_reply": "2022-10-02T10:01:57.719003Z"
    },
    "papermill": {
     "duration": 2.100762,
     "end_time": "2022-10-02T10:01:57.723344",
     "exception": false,
     "start_time": "2022-10-02T10:01:55.622582",
     "status": "completed"
    },
    "tags": [],
    "pycharm": {
     "name": "#%%\n"
    }
   },
   "outputs": [],
   "source": [
    "from sklearn.preprocessing import LabelEncoder\n",
    "\n",
    "col = df.columns\n",
    "\n",
    "ob_list = []\n",
    "for i in col:\n",
    "    if df[i].dtype == object:\n",
    "        ob_list.append(i)\n",
    "\n",
    "le = LabelEncoder()\n",
    "for col in ob_list:\n",
    "    \n",
    "    df[col] = le.fit_transform(df[col])\n",
    "    test[col] = le.fit_transform(test[col])\n",
    "    "
   ]
  },
  {
   "cell_type": "code",
   "execution_count": 17,
   "id": "617e2270",
   "metadata": {
    "collapsed": true,
    "execution": {
     "iopub.execute_input": "2022-10-02T10:01:57.747557Z",
     "iopub.status.busy": "2022-10-02T10:01:57.747119Z",
     "iopub.status.idle": "2022-10-02T10:03:27.588479Z",
     "shell.execute_reply": "2022-10-02T10:03:27.587340Z"
    },
    "jupyter": {
     "outputs_hidden": true
    },
    "papermill": {
     "duration": 89.857179,
     "end_time": "2022-10-02T10:03:27.591913",
     "exception": false,
     "start_time": "2022-10-02T10:01:57.734734",
     "status": "completed"
    },
    "tags": [],
    "pycharm": {
     "name": "#%%\n"
    }
   },
   "outputs": [
    {
     "data": {
      "text/html": [
       "<style type='text/css'>\n",
       ".datatable table.frame { margin-bottom: 0; }\n",
       ".datatable table.frame thead { border-bottom: none; }\n",
       ".datatable table.frame tr.coltypes td {  color: #FFFFFF;  line-height: 6px;  padding: 0 0.5em;}\n",
       ".datatable .bool    { background: #DDDD99; }\n",
       ".datatable .object  { background: #565656; }\n",
       ".datatable .int     { background: #5D9E5D; }\n",
       ".datatable .float   { background: #4040CC; }\n",
       ".datatable .str     { background: #CC4040; }\n",
       ".datatable .time    { background: #40CC40; }\n",
       ".datatable .row_index {  background: var(--jp-border-color3);  border-right: 1px solid var(--jp-border-color0);  color: var(--jp-ui-font-color3);  font-size: 9px;}\n",
       ".datatable .frame tbody td { text-align: left; }\n",
       ".datatable .frame tr.coltypes .row_index {  background: var(--jp-border-color0);}\n",
       ".datatable th:nth-child(2) { padding-left: 12px; }\n",
       ".datatable .hellipsis {  color: var(--jp-cell-editor-border-color);}\n",
       ".datatable .vellipsis {  background: var(--jp-layout-color0);  color: var(--jp-cell-editor-border-color);}\n",
       ".datatable .na {  color: var(--jp-cell-editor-border-color);  font-size: 80%;}\n",
       ".datatable .sp {  opacity: 0.25;}\n",
       ".datatable .footer { font-size: 9px; }\n",
       ".datatable .frame_dimensions {  background: var(--jp-border-color3);  border-top: 1px solid var(--jp-border-color0);  color: var(--jp-ui-font-color3);  display: inline-block;  opacity: 0.6;  padding: 1px 10px 1px 5px;}\n",
       "</style>\n"
      ],
      "text/plain": [
       "<IPython.core.display.HTML object>"
      ]
     },
     "metadata": {},
     "output_type": "display_data"
    },
    {
     "name": "stderr",
     "output_type": "stream",
     "text": [
      "/opt/conda/lib/python3.7/site-packages/lightgbm/sklearn.py:726: UserWarning: 'early_stopping_rounds' argument is deprecated and will be removed in a future release of LightGBM. Pass 'early_stopping()' callback via 'callbacks' argument instead.\n",
      "  _log_warning(\"'early_stopping_rounds' argument is deprecated and will be removed in a future release of LightGBM. \"\n"
     ]
    },
    {
     "name": "stdout",
     "output_type": "stream",
     "text": [
      "[1]\tvalid_0's auc: 0.717032\tvalid_0's binary_logloss: 0.276088\n",
      "[2]\tvalid_0's auc: 0.722594\tvalid_0's binary_logloss: 0.271857\n",
      "[3]\tvalid_0's auc: 0.723671\tvalid_0's binary_logloss: 0.268623\n",
      "[4]\tvalid_0's auc: 0.728222\tvalid_0's binary_logloss: 0.265902\n",
      "[5]\tvalid_0's auc: 0.730284\tvalid_0's binary_logloss: 0.263721\n",
      "[6]\tvalid_0's auc: 0.732201\tvalid_0's binary_logloss: 0.261867\n",
      "[7]\tvalid_0's auc: 0.73352\tvalid_0's binary_logloss: 0.26042\n",
      "[8]\tvalid_0's auc: 0.735231\tvalid_0's binary_logloss: 0.259147\n",
      "[9]\tvalid_0's auc: 0.736034\tvalid_0's binary_logloss: 0.258065\n",
      "[10]\tvalid_0's auc: 0.737031\tvalid_0's binary_logloss: 0.257179\n",
      "[11]\tvalid_0's auc: 0.738005\tvalid_0's binary_logloss: 0.25636\n",
      "[12]\tvalid_0's auc: 0.739375\tvalid_0's binary_logloss: 0.25558\n",
      "[13]\tvalid_0's auc: 0.740256\tvalid_0's binary_logloss: 0.254928\n",
      "[14]\tvalid_0's auc: 0.740848\tvalid_0's binary_logloss: 0.254417\n",
      "[15]\tvalid_0's auc: 0.741856\tvalid_0's binary_logloss: 0.253855\n",
      "[16]\tvalid_0's auc: 0.742566\tvalid_0's binary_logloss: 0.253421\n",
      "[17]\tvalid_0's auc: 0.743094\tvalid_0's binary_logloss: 0.253046\n",
      "[18]\tvalid_0's auc: 0.74378\tvalid_0's binary_logloss: 0.252584\n",
      "[19]\tvalid_0's auc: 0.744593\tvalid_0's binary_logloss: 0.25222\n",
      "[20]\tvalid_0's auc: 0.745133\tvalid_0's binary_logloss: 0.251931\n",
      "[21]\tvalid_0's auc: 0.745679\tvalid_0's binary_logloss: 0.251646\n",
      "[22]\tvalid_0's auc: 0.746348\tvalid_0's binary_logloss: 0.251343\n",
      "[23]\tvalid_0's auc: 0.746988\tvalid_0's binary_logloss: 0.251122\n",
      "[24]\tvalid_0's auc: 0.747705\tvalid_0's binary_logloss: 0.250826\n",
      "[25]\tvalid_0's auc: 0.748179\tvalid_0's binary_logloss: 0.250609\n",
      "[26]\tvalid_0's auc: 0.748891\tvalid_0's binary_logloss: 0.2504\n",
      "[27]\tvalid_0's auc: 0.74923\tvalid_0's binary_logloss: 0.250242\n",
      "[28]\tvalid_0's auc: 0.750182\tvalid_0's binary_logloss: 0.249996\n",
      "[29]\tvalid_0's auc: 0.751082\tvalid_0's binary_logloss: 0.249736\n",
      "[30]\tvalid_0's auc: 0.751742\tvalid_0's binary_logloss: 0.249532\n",
      "[31]\tvalid_0's auc: 0.752526\tvalid_0's binary_logloss: 0.249288\n",
      "[32]\tvalid_0's auc: 0.752905\tvalid_0's binary_logloss: 0.249161\n",
      "[33]\tvalid_0's auc: 0.753171\tvalid_0's binary_logloss: 0.249059\n",
      "[34]\tvalid_0's auc: 0.753843\tvalid_0's binary_logloss: 0.24888\n",
      "[35]\tvalid_0's auc: 0.754105\tvalid_0's binary_logloss: 0.248794\n",
      "[36]\tvalid_0's auc: 0.754487\tvalid_0's binary_logloss: 0.248674\n",
      "[37]\tvalid_0's auc: 0.754976\tvalid_0's binary_logloss: 0.248549\n",
      "[38]\tvalid_0's auc: 0.755384\tvalid_0's binary_logloss: 0.248421\n",
      "[39]\tvalid_0's auc: 0.755824\tvalid_0's binary_logloss: 0.248298\n",
      "[40]\tvalid_0's auc: 0.75611\tvalid_0's binary_logloss: 0.248202\n",
      "[41]\tvalid_0's auc: 0.756741\tvalid_0's binary_logloss: 0.248032\n",
      "[42]\tvalid_0's auc: 0.756872\tvalid_0's binary_logloss: 0.247987\n",
      "[43]\tvalid_0's auc: 0.757298\tvalid_0's binary_logloss: 0.247857\n",
      "[44]\tvalid_0's auc: 0.757467\tvalid_0's binary_logloss: 0.247818\n",
      "[45]\tvalid_0's auc: 0.75786\tvalid_0's binary_logloss: 0.247718\n",
      "[46]\tvalid_0's auc: 0.758177\tvalid_0's binary_logloss: 0.247626\n",
      "[47]\tvalid_0's auc: 0.75845\tvalid_0's binary_logloss: 0.247547\n",
      "[48]\tvalid_0's auc: 0.758729\tvalid_0's binary_logloss: 0.247456\n",
      "[49]\tvalid_0's auc: 0.758855\tvalid_0's binary_logloss: 0.24741\n",
      "[50]\tvalid_0's auc: 0.759073\tvalid_0's binary_logloss: 0.247325\n",
      "[51]\tvalid_0's auc: 0.759356\tvalid_0's binary_logloss: 0.247246\n",
      "[52]\tvalid_0's auc: 0.759541\tvalid_0's binary_logloss: 0.247196\n",
      "[53]\tvalid_0's auc: 0.7597\tvalid_0's binary_logloss: 0.247149\n",
      "[54]\tvalid_0's auc: 0.759868\tvalid_0's binary_logloss: 0.247088\n",
      "[55]\tvalid_0's auc: 0.760001\tvalid_0's binary_logloss: 0.247043\n",
      "[56]\tvalid_0's auc: 0.760143\tvalid_0's binary_logloss: 0.247004\n",
      "[57]\tvalid_0's auc: 0.760123\tvalid_0's binary_logloss: 0.246994\n",
      "[58]\tvalid_0's auc: 0.76018\tvalid_0's binary_logloss: 0.246966\n",
      "[59]\tvalid_0's auc: 0.760344\tvalid_0's binary_logloss: 0.24692\n",
      "[60]\tvalid_0's auc: 0.76037\tvalid_0's binary_logloss: 0.246899\n",
      "[61]\tvalid_0's auc: 0.760533\tvalid_0's binary_logloss: 0.246848\n",
      "[62]\tvalid_0's auc: 0.760634\tvalid_0's binary_logloss: 0.246824\n",
      "[63]\tvalid_0's auc: 0.761108\tvalid_0's binary_logloss: 0.246706\n",
      "[64]\tvalid_0's auc: 0.761057\tvalid_0's binary_logloss: 0.246706\n",
      "[65]\tvalid_0's auc: 0.76117\tvalid_0's binary_logloss: 0.246677\n",
      "[66]\tvalid_0's auc: 0.761113\tvalid_0's binary_logloss: 0.246694\n",
      "[67]\tvalid_0's auc: 0.761208\tvalid_0's binary_logloss: 0.246655\n",
      "[68]\tvalid_0's auc: 0.761202\tvalid_0's binary_logloss: 0.246636\n",
      "[69]\tvalid_0's auc: 0.761293\tvalid_0's binary_logloss: 0.246607\n",
      "[70]\tvalid_0's auc: 0.76123\tvalid_0's binary_logloss: 0.246625\n",
      "[71]\tvalid_0's auc: 0.761333\tvalid_0's binary_logloss: 0.246588\n",
      "[72]\tvalid_0's auc: 0.761432\tvalid_0's binary_logloss: 0.246579\n",
      "[73]\tvalid_0's auc: 0.761374\tvalid_0's binary_logloss: 0.246601\n",
      "[74]\tvalid_0's auc: 0.761489\tvalid_0's binary_logloss: 0.246567\n",
      "[75]\tvalid_0's auc: 0.761674\tvalid_0's binary_logloss: 0.246512\n",
      "[76]\tvalid_0's auc: 0.761742\tvalid_0's binary_logloss: 0.246487\n",
      "[77]\tvalid_0's auc: 0.761728\tvalid_0's binary_logloss: 0.246491\n",
      "[78]\tvalid_0's auc: 0.761814\tvalid_0's binary_logloss: 0.246466\n",
      "[79]\tvalid_0's auc: 0.76181\tvalid_0's binary_logloss: 0.246467\n",
      "[80]\tvalid_0's auc: 0.761845\tvalid_0's binary_logloss: 0.24644\n",
      "[81]\tvalid_0's auc: 0.761925\tvalid_0's binary_logloss: 0.246421\n",
      "[82]\tvalid_0's auc: 0.761908\tvalid_0's binary_logloss: 0.246434\n",
      "[83]\tvalid_0's auc: 0.761906\tvalid_0's binary_logloss: 0.246428\n",
      "[84]\tvalid_0's auc: 0.762043\tvalid_0's binary_logloss: 0.246396\n",
      "[85]\tvalid_0's auc: 0.762252\tvalid_0's binary_logloss: 0.24635\n",
      "[86]\tvalid_0's auc: 0.762283\tvalid_0's binary_logloss: 0.246338\n",
      "[87]\tvalid_0's auc: 0.762443\tvalid_0's binary_logloss: 0.246283\n",
      "[88]\tvalid_0's auc: 0.762349\tvalid_0's binary_logloss: 0.24631\n",
      "[89]\tvalid_0's auc: 0.762302\tvalid_0's binary_logloss: 0.246325\n",
      "[90]\tvalid_0's auc: 0.762347\tvalid_0's binary_logloss: 0.246329\n",
      "[91]\tvalid_0's auc: 0.762348\tvalid_0's binary_logloss: 0.24633\n",
      "[92]\tvalid_0's auc: 0.762384\tvalid_0's binary_logloss: 0.24631\n",
      "[93]\tvalid_0's auc: 0.762365\tvalid_0's binary_logloss: 0.246311\n",
      "[94]\tvalid_0's auc: 0.762383\tvalid_0's binary_logloss: 0.246308\n",
      "[95]\tvalid_0's auc: 0.762311\tvalid_0's binary_logloss: 0.246322\n",
      "[96]\tvalid_0's auc: 0.762268\tvalid_0's binary_logloss: 0.246331\n",
      "[97]\tvalid_0's auc: 0.762239\tvalid_0's binary_logloss: 0.246343\n",
      "[98]\tvalid_0's auc: 0.762276\tvalid_0's binary_logloss: 0.246327\n",
      "[99]\tvalid_0's auc: 0.762245\tvalid_0's binary_logloss: 0.24634\n",
      "[100]\tvalid_0's auc: 0.762193\tvalid_0's binary_logloss: 0.246342\n",
      "[101]\tvalid_0's auc: 0.762208\tvalid_0's binary_logloss: 0.246336\n",
      "[102]\tvalid_0's auc: 0.762194\tvalid_0's binary_logloss: 0.246344\n",
      "[103]\tvalid_0's auc: 0.762266\tvalid_0's binary_logloss: 0.246307\n",
      "[104]\tvalid_0's auc: 0.762326\tvalid_0's binary_logloss: 0.246293\n",
      "[105]\tvalid_0's auc: 0.762249\tvalid_0's binary_logloss: 0.246311\n",
      "[106]\tvalid_0's auc: 0.762229\tvalid_0's binary_logloss: 0.246313\n",
      "[107]\tvalid_0's auc: 0.762223\tvalid_0's binary_logloss: 0.24631\n",
      "[108]\tvalid_0's auc: 0.762206\tvalid_0's binary_logloss: 0.246323\n",
      "[109]\tvalid_0's auc: 0.762102\tvalid_0's binary_logloss: 0.246342\n",
      "[110]\tvalid_0's auc: 0.762101\tvalid_0's binary_logloss: 0.246341\n",
      "[111]\tvalid_0's auc: 0.762072\tvalid_0's binary_logloss: 0.246346\n",
      "[112]\tvalid_0's auc: 0.762166\tvalid_0's binary_logloss: 0.246315\n",
      "[113]\tvalid_0's auc: 0.762154\tvalid_0's binary_logloss: 0.246316\n",
      "[114]\tvalid_0's auc: 0.762157\tvalid_0's binary_logloss: 0.246322\n",
      "[115]\tvalid_0's auc: 0.762142\tvalid_0's binary_logloss: 0.24632\n",
      "[116]\tvalid_0's auc: 0.762269\tvalid_0's binary_logloss: 0.246291\n",
      "[117]\tvalid_0's auc: 0.762433\tvalid_0's binary_logloss: 0.246248\n",
      "[118]\tvalid_0's auc: 0.762557\tvalid_0's binary_logloss: 0.24621\n",
      "[119]\tvalid_0's auc: 0.762467\tvalid_0's binary_logloss: 0.246228\n",
      "[120]\tvalid_0's auc: 0.762457\tvalid_0's binary_logloss: 0.246219\n",
      "[121]\tvalid_0's auc: 0.762744\tvalid_0's binary_logloss: 0.246131\n",
      "[122]\tvalid_0's auc: 0.762735\tvalid_0's binary_logloss: 0.246121\n",
      "[123]\tvalid_0's auc: 0.762647\tvalid_0's binary_logloss: 0.246143\n",
      "[124]\tvalid_0's auc: 0.762643\tvalid_0's binary_logloss: 0.246143\n",
      "[125]\tvalid_0's auc: 0.762559\tvalid_0's binary_logloss: 0.246162\n",
      "[126]\tvalid_0's auc: 0.762569\tvalid_0's binary_logloss: 0.246158\n",
      "[127]\tvalid_0's auc: 0.762583\tvalid_0's binary_logloss: 0.24617\n",
      "[128]\tvalid_0's auc: 0.762591\tvalid_0's binary_logloss: 0.246168\n",
      "[129]\tvalid_0's auc: 0.762531\tvalid_0's binary_logloss: 0.246185\n",
      "[130]\tvalid_0's auc: 0.762572\tvalid_0's binary_logloss: 0.246167\n",
      "[131]\tvalid_0's auc: 0.762515\tvalid_0's binary_logloss: 0.246183\n",
      "[132]\tvalid_0's auc: 0.762543\tvalid_0's binary_logloss: 0.246172\n",
      "[133]\tvalid_0's auc: 0.76253\tvalid_0's binary_logloss: 0.246171\n",
      "[134]\tvalid_0's auc: 0.762478\tvalid_0's binary_logloss: 0.246184\n",
      "[135]\tvalid_0's auc: 0.762363\tvalid_0's binary_logloss: 0.246206\n",
      "[136]\tvalid_0's auc: 0.762441\tvalid_0's binary_logloss: 0.246189\n",
      "[137]\tvalid_0's auc: 0.762407\tvalid_0's binary_logloss: 0.2462\n",
      "[138]\tvalid_0's auc: 0.762527\tvalid_0's binary_logloss: 0.246168\n",
      "[139]\tvalid_0's auc: 0.762535\tvalid_0's binary_logloss: 0.246161\n",
      "[140]\tvalid_0's auc: 0.762504\tvalid_0's binary_logloss: 0.246173\n",
      "[141]\tvalid_0's auc: 0.762555\tvalid_0's binary_logloss: 0.246156\n",
      "[142]\tvalid_0's auc: 0.762557\tvalid_0's binary_logloss: 0.246169\n",
      "[143]\tvalid_0's auc: 0.762527\tvalid_0's binary_logloss: 0.246174\n",
      "[144]\tvalid_0's auc: 0.762501\tvalid_0's binary_logloss: 0.246197\n",
      "[145]\tvalid_0's auc: 0.762503\tvalid_0's binary_logloss: 0.246187\n",
      "[146]\tvalid_0's auc: 0.762468\tvalid_0's binary_logloss: 0.246202\n",
      "[147]\tvalid_0's auc: 0.762384\tvalid_0's binary_logloss: 0.246234\n",
      "[148]\tvalid_0's auc: 0.762381\tvalid_0's binary_logloss: 0.246236\n",
      "[149]\tvalid_0's auc: 0.762359\tvalid_0's binary_logloss: 0.246242\n",
      "[150]\tvalid_0's auc: 0.762359\tvalid_0's binary_logloss: 0.246244\n",
      "[151]\tvalid_0's auc: 0.76231\tvalid_0's binary_logloss: 0.246259\n",
      "[152]\tvalid_0's auc: 0.762373\tvalid_0's binary_logloss: 0.246235\n",
      "[153]\tvalid_0's auc: 0.762328\tvalid_0's binary_logloss: 0.246243\n",
      "[154]\tvalid_0's auc: 0.762312\tvalid_0's binary_logloss: 0.24625\n",
      "[155]\tvalid_0's auc: 0.762332\tvalid_0's binary_logloss: 0.246255\n",
      "[156]\tvalid_0's auc: 0.762319\tvalid_0's binary_logloss: 0.246269\n",
      "[157]\tvalid_0's auc: 0.762347\tvalid_0's binary_logloss: 0.24626\n",
      "[158]\tvalid_0's auc: 0.762269\tvalid_0's binary_logloss: 0.246285\n",
      "[159]\tvalid_0's auc: 0.7624\tvalid_0's binary_logloss: 0.246256\n",
      "[160]\tvalid_0's auc: 0.762475\tvalid_0's binary_logloss: 0.246243\n",
      "[161]\tvalid_0's auc: 0.762482\tvalid_0's binary_logloss: 0.246233\n",
      "[162]\tvalid_0's auc: 0.762459\tvalid_0's binary_logloss: 0.246232\n",
      "[163]\tvalid_0's auc: 0.762468\tvalid_0's binary_logloss: 0.246227\n",
      "[164]\tvalid_0's auc: 0.76248\tvalid_0's binary_logloss: 0.246229\n",
      "[165]\tvalid_0's auc: 0.762534\tvalid_0's binary_logloss: 0.246218\n",
      "[166]\tvalid_0's auc: 0.762554\tvalid_0's binary_logloss: 0.246211\n",
      "[167]\tvalid_0's auc: 0.762512\tvalid_0's binary_logloss: 0.246223\n",
      "[168]\tvalid_0's auc: 0.762508\tvalid_0's binary_logloss: 0.246235\n",
      "[169]\tvalid_0's auc: 0.76253\tvalid_0's binary_logloss: 0.246217\n",
      "[170]\tvalid_0's auc: 0.76253\tvalid_0's binary_logloss: 0.246221\n",
      "[171]\tvalid_0's auc: 0.762554\tvalid_0's binary_logloss: 0.246222\n",
      "[172]\tvalid_0's auc: 0.762534\tvalid_0's binary_logloss: 0.246209\n",
      "[173]\tvalid_0's auc: 0.762541\tvalid_0's binary_logloss: 0.246218\n",
      "[174]\tvalid_0's auc: 0.76257\tvalid_0's binary_logloss: 0.24621\n",
      "[175]\tvalid_0's auc: 0.762579\tvalid_0's binary_logloss: 0.246204\n",
      "[176]\tvalid_0's auc: 0.762602\tvalid_0's binary_logloss: 0.246193\n",
      "[177]\tvalid_0's auc: 0.76254\tvalid_0's binary_logloss: 0.246211\n",
      "[178]\tvalid_0's auc: 0.762464\tvalid_0's binary_logloss: 0.246232\n",
      "[179]\tvalid_0's auc: 0.762451\tvalid_0's binary_logloss: 0.246241\n",
      "[180]\tvalid_0's auc: 0.762404\tvalid_0's binary_logloss: 0.246268\n",
      "[181]\tvalid_0's auc: 0.762451\tvalid_0's binary_logloss: 0.246264\n",
      "[182]\tvalid_0's auc: 0.762431\tvalid_0's binary_logloss: 0.246269\n",
      "[183]\tvalid_0's auc: 0.762509\tvalid_0's binary_logloss: 0.246252\n",
      "[184]\tvalid_0's auc: 0.762518\tvalid_0's binary_logloss: 0.246251\n",
      "[185]\tvalid_0's auc: 0.762549\tvalid_0's binary_logloss: 0.246256\n",
      "[186]\tvalid_0's auc: 0.762833\tvalid_0's binary_logloss: 0.246187\n",
      "[187]\tvalid_0's auc: 0.762865\tvalid_0's binary_logloss: 0.246178\n",
      "[188]\tvalid_0's auc: 0.762932\tvalid_0's binary_logloss: 0.246171\n",
      "[189]\tvalid_0's auc: 0.76291\tvalid_0's binary_logloss: 0.246168\n",
      "[190]\tvalid_0's auc: 0.762911\tvalid_0's binary_logloss: 0.246167\n",
      "[191]\tvalid_0's auc: 0.762918\tvalid_0's binary_logloss: 0.246185\n",
      "[192]\tvalid_0's auc: 0.762785\tvalid_0's binary_logloss: 0.246224\n",
      "[193]\tvalid_0's auc: 0.762759\tvalid_0's binary_logloss: 0.246237\n",
      "[194]\tvalid_0's auc: 0.762686\tvalid_0's binary_logloss: 0.246255\n",
      "[195]\tvalid_0's auc: 0.762655\tvalid_0's binary_logloss: 0.246264\n",
      "[196]\tvalid_0's auc: 0.762776\tvalid_0's binary_logloss: 0.246232\n",
      "[197]\tvalid_0's auc: 0.762767\tvalid_0's binary_logloss: 0.246236\n",
      "[198]\tvalid_0's auc: 0.762821\tvalid_0's binary_logloss: 0.246214\n",
      "[199]\tvalid_0's auc: 0.762734\tvalid_0's binary_logloss: 0.246233\n",
      "[200]\tvalid_0's auc: 0.762762\tvalid_0's binary_logloss: 0.246232\n",
      "[201]\tvalid_0's auc: 0.762742\tvalid_0's binary_logloss: 0.246233\n",
      "[202]\tvalid_0's auc: 0.76273\tvalid_0's binary_logloss: 0.246233\n",
      "[203]\tvalid_0's auc: 0.762734\tvalid_0's binary_logloss: 0.246237\n",
      "[204]\tvalid_0's auc: 0.762752\tvalid_0's binary_logloss: 0.246233\n",
      "[205]\tvalid_0's auc: 0.762816\tvalid_0's binary_logloss: 0.246217\n",
      "[206]\tvalid_0's auc: 0.762724\tvalid_0's binary_logloss: 0.246239\n",
      "[207]\tvalid_0's auc: 0.762817\tvalid_0's binary_logloss: 0.246213\n",
      "[208]\tvalid_0's auc: 0.762978\tvalid_0's binary_logloss: 0.246175\n",
      "[209]\tvalid_0's auc: 0.76296\tvalid_0's binary_logloss: 0.246178\n",
      "[210]\tvalid_0's auc: 0.762983\tvalid_0's binary_logloss: 0.246177\n",
      "[211]\tvalid_0's auc: 0.762924\tvalid_0's binary_logloss: 0.246192\n",
      "[212]\tvalid_0's auc: 0.762889\tvalid_0's binary_logloss: 0.246201\n",
      "[213]\tvalid_0's auc: 0.762873\tvalid_0's binary_logloss: 0.246195\n",
      "[214]\tvalid_0's auc: 0.763148\tvalid_0's binary_logloss: 0.246124\n",
      "[215]\tvalid_0's auc: 0.763064\tvalid_0's binary_logloss: 0.246143\n",
      "[216]\tvalid_0's auc: 0.763064\tvalid_0's binary_logloss: 0.246137\n",
      "[217]\tvalid_0's auc: 0.763066\tvalid_0's binary_logloss: 0.246139\n",
      "[218]\tvalid_0's auc: 0.762957\tvalid_0's binary_logloss: 0.24617\n",
      "[219]\tvalid_0's auc: 0.762962\tvalid_0's binary_logloss: 0.246156\n",
      "[220]\tvalid_0's auc: 0.762959\tvalid_0's binary_logloss: 0.246152\n",
      "[221]\tvalid_0's auc: 0.762928\tvalid_0's binary_logloss: 0.246167\n",
      "[222]\tvalid_0's auc: 0.762906\tvalid_0's binary_logloss: 0.246178\n"
     ]
    },
    {
     "name": "stderr",
     "output_type": "stream",
     "text": [
      "/opt/conda/lib/python3.7/site-packages/lightgbm/sklearn.py:726: UserWarning: 'early_stopping_rounds' argument is deprecated and will be removed in a future release of LightGBM. Pass 'early_stopping()' callback via 'callbacks' argument instead.\n",
      "  _log_warning(\"'early_stopping_rounds' argument is deprecated and will be removed in a future release of LightGBM. \"\n"
     ]
    },
    {
     "name": "stdout",
     "output_type": "stream",
     "text": [
      "[1]\tvalid_0's auc: 0.713235\tvalid_0's binary_logloss: 0.276278\n",
      "[2]\tvalid_0's auc: 0.721202\tvalid_0's binary_logloss: 0.272105\n",
      "[3]\tvalid_0's auc: 0.72339\tvalid_0's binary_logloss: 0.268865\n",
      "[4]\tvalid_0's auc: 0.725231\tvalid_0's binary_logloss: 0.266309\n",
      "[5]\tvalid_0's auc: 0.727708\tvalid_0's binary_logloss: 0.264217\n",
      "[6]\tvalid_0's auc: 0.729508\tvalid_0's binary_logloss: 0.262417\n",
      "[7]\tvalid_0's auc: 0.730396\tvalid_0's binary_logloss: 0.260959\n",
      "[8]\tvalid_0's auc: 0.731797\tvalid_0's binary_logloss: 0.259676\n",
      "[9]\tvalid_0's auc: 0.733361\tvalid_0's binary_logloss: 0.258589\n",
      "[10]\tvalid_0's auc: 0.734917\tvalid_0's binary_logloss: 0.257634\n",
      "[11]\tvalid_0's auc: 0.735925\tvalid_0's binary_logloss: 0.25685\n",
      "[12]\tvalid_0's auc: 0.736717\tvalid_0's binary_logloss: 0.256156\n",
      "[13]\tvalid_0's auc: 0.737467\tvalid_0's binary_logloss: 0.255557\n",
      "[14]\tvalid_0's auc: 0.738502\tvalid_0's binary_logloss: 0.254972\n",
      "[15]\tvalid_0's auc: 0.738992\tvalid_0's binary_logloss: 0.254512\n",
      "[16]\tvalid_0's auc: 0.739628\tvalid_0's binary_logloss: 0.254092\n",
      "[17]\tvalid_0's auc: 0.740551\tvalid_0's binary_logloss: 0.253677\n",
      "[18]\tvalid_0's auc: 0.741303\tvalid_0's binary_logloss: 0.253291\n",
      "[19]\tvalid_0's auc: 0.741896\tvalid_0's binary_logloss: 0.252905\n",
      "[20]\tvalid_0's auc: 0.742566\tvalid_0's binary_logloss: 0.252584\n",
      "[21]\tvalid_0's auc: 0.743094\tvalid_0's binary_logloss: 0.252294\n",
      "[22]\tvalid_0's auc: 0.743632\tvalid_0's binary_logloss: 0.25202\n",
      "[23]\tvalid_0's auc: 0.744351\tvalid_0's binary_logloss: 0.251777\n",
      "[24]\tvalid_0's auc: 0.745056\tvalid_0's binary_logloss: 0.251506\n",
      "[25]\tvalid_0's auc: 0.745469\tvalid_0's binary_logloss: 0.251312\n",
      "[26]\tvalid_0's auc: 0.746429\tvalid_0's binary_logloss: 0.251\n",
      "[27]\tvalid_0's auc: 0.746733\tvalid_0's binary_logloss: 0.25084\n",
      "[28]\tvalid_0's auc: 0.747292\tvalid_0's binary_logloss: 0.250657\n",
      "[29]\tvalid_0's auc: 0.747884\tvalid_0's binary_logloss: 0.25045\n",
      "[30]\tvalid_0's auc: 0.748855\tvalid_0's binary_logloss: 0.25017\n",
      "[31]\tvalid_0's auc: 0.749365\tvalid_0's binary_logloss: 0.250022\n",
      "[32]\tvalid_0's auc: 0.749686\tvalid_0's binary_logloss: 0.249894\n",
      "[33]\tvalid_0's auc: 0.750012\tvalid_0's binary_logloss: 0.249737\n",
      "[34]\tvalid_0's auc: 0.750312\tvalid_0's binary_logloss: 0.24962\n",
      "[35]\tvalid_0's auc: 0.750722\tvalid_0's binary_logloss: 0.249485\n",
      "[36]\tvalid_0's auc: 0.750946\tvalid_0's binary_logloss: 0.249395\n",
      "[37]\tvalid_0's auc: 0.751421\tvalid_0's binary_logloss: 0.249254\n",
      "[38]\tvalid_0's auc: 0.752083\tvalid_0's binary_logloss: 0.249075\n",
      "[39]\tvalid_0's auc: 0.75239\tvalid_0's binary_logloss: 0.248978\n",
      "[40]\tvalid_0's auc: 0.752437\tvalid_0's binary_logloss: 0.248946\n",
      "[41]\tvalid_0's auc: 0.752706\tvalid_0's binary_logloss: 0.248846\n",
      "[42]\tvalid_0's auc: 0.753018\tvalid_0's binary_logloss: 0.248728\n",
      "[43]\tvalid_0's auc: 0.753354\tvalid_0's binary_logloss: 0.248648\n",
      "[44]\tvalid_0's auc: 0.75363\tvalid_0's binary_logloss: 0.24858\n",
      "[45]\tvalid_0's auc: 0.753888\tvalid_0's binary_logloss: 0.248493\n",
      "[46]\tvalid_0's auc: 0.753985\tvalid_0's binary_logloss: 0.248443\n",
      "[47]\tvalid_0's auc: 0.754036\tvalid_0's binary_logloss: 0.248404\n",
      "[48]\tvalid_0's auc: 0.754222\tvalid_0's binary_logloss: 0.24835\n",
      "[49]\tvalid_0's auc: 0.754327\tvalid_0's binary_logloss: 0.24831\n",
      "[50]\tvalid_0's auc: 0.754351\tvalid_0's binary_logloss: 0.248295\n",
      "[51]\tvalid_0's auc: 0.754494\tvalid_0's binary_logloss: 0.248248\n",
      "[52]\tvalid_0's auc: 0.754859\tvalid_0's binary_logloss: 0.248145\n",
      "[53]\tvalid_0's auc: 0.755018\tvalid_0's binary_logloss: 0.248106\n",
      "[54]\tvalid_0's auc: 0.755199\tvalid_0's binary_logloss: 0.248043\n",
      "[55]\tvalid_0's auc: 0.755361\tvalid_0's binary_logloss: 0.248006\n",
      "[56]\tvalid_0's auc: 0.756198\tvalid_0's binary_logloss: 0.247804\n",
      "[57]\tvalid_0's auc: 0.756352\tvalid_0's binary_logloss: 0.247754\n",
      "[58]\tvalid_0's auc: 0.756372\tvalid_0's binary_logloss: 0.247755\n",
      "[59]\tvalid_0's auc: 0.756505\tvalid_0's binary_logloss: 0.247725\n",
      "[60]\tvalid_0's auc: 0.756496\tvalid_0's binary_logloss: 0.247724\n",
      "[61]\tvalid_0's auc: 0.756591\tvalid_0's binary_logloss: 0.247707\n",
      "[62]\tvalid_0's auc: 0.756636\tvalid_0's binary_logloss: 0.247705\n",
      "[63]\tvalid_0's auc: 0.756874\tvalid_0's binary_logloss: 0.247644\n",
      "[64]\tvalid_0's auc: 0.756814\tvalid_0's binary_logloss: 0.247653\n",
      "[65]\tvalid_0's auc: 0.756993\tvalid_0's binary_logloss: 0.247607\n",
      "[66]\tvalid_0's auc: 0.75706\tvalid_0's binary_logloss: 0.247599\n",
      "[67]\tvalid_0's auc: 0.757028\tvalid_0's binary_logloss: 0.24759\n",
      "[68]\tvalid_0's auc: 0.75712\tvalid_0's binary_logloss: 0.247561\n",
      "[69]\tvalid_0's auc: 0.757169\tvalid_0's binary_logloss: 0.247547\n",
      "[70]\tvalid_0's auc: 0.757817\tvalid_0's binary_logloss: 0.247382\n",
      "[71]\tvalid_0's auc: 0.757773\tvalid_0's binary_logloss: 0.247388\n",
      "[72]\tvalid_0's auc: 0.757788\tvalid_0's binary_logloss: 0.247386\n",
      "[73]\tvalid_0's auc: 0.757851\tvalid_0's binary_logloss: 0.247354\n",
      "[74]\tvalid_0's auc: 0.757967\tvalid_0's binary_logloss: 0.247333\n",
      "[75]\tvalid_0's auc: 0.75804\tvalid_0's binary_logloss: 0.24732\n",
      "[76]\tvalid_0's auc: 0.758149\tvalid_0's binary_logloss: 0.247279\n",
      "[77]\tvalid_0's auc: 0.758111\tvalid_0's binary_logloss: 0.247286\n",
      "[78]\tvalid_0's auc: 0.758105\tvalid_0's binary_logloss: 0.247275\n",
      "[79]\tvalid_0's auc: 0.758212\tvalid_0's binary_logloss: 0.247243\n",
      "[80]\tvalid_0's auc: 0.758543\tvalid_0's binary_logloss: 0.247154\n",
      "[81]\tvalid_0's auc: 0.75857\tvalid_0's binary_logloss: 0.24714\n",
      "[82]\tvalid_0's auc: 0.758399\tvalid_0's binary_logloss: 0.24718\n",
      "[83]\tvalid_0's auc: 0.758517\tvalid_0's binary_logloss: 0.247149\n",
      "[84]\tvalid_0's auc: 0.758518\tvalid_0's binary_logloss: 0.247158\n",
      "[85]\tvalid_0's auc: 0.758562\tvalid_0's binary_logloss: 0.247143\n",
      "[86]\tvalid_0's auc: 0.758699\tvalid_0's binary_logloss: 0.24711\n",
      "[87]\tvalid_0's auc: 0.758756\tvalid_0's binary_logloss: 0.247097\n",
      "[88]\tvalid_0's auc: 0.758698\tvalid_0's binary_logloss: 0.247108\n",
      "[89]\tvalid_0's auc: 0.758662\tvalid_0's binary_logloss: 0.247121\n",
      "[90]\tvalid_0's auc: 0.758658\tvalid_0's binary_logloss: 0.247119\n",
      "[91]\tvalid_0's auc: 0.758608\tvalid_0's binary_logloss: 0.247126\n",
      "[92]\tvalid_0's auc: 0.758649\tvalid_0's binary_logloss: 0.247119\n",
      "[93]\tvalid_0's auc: 0.758666\tvalid_0's binary_logloss: 0.247122\n",
      "[94]\tvalid_0's auc: 0.758724\tvalid_0's binary_logloss: 0.247099\n",
      "[95]\tvalid_0's auc: 0.758733\tvalid_0's binary_logloss: 0.24709\n",
      "[96]\tvalid_0's auc: 0.758757\tvalid_0's binary_logloss: 0.247072\n",
      "[97]\tvalid_0's auc: 0.758815\tvalid_0's binary_logloss: 0.247059\n",
      "[98]\tvalid_0's auc: 0.758898\tvalid_0's binary_logloss: 0.247049\n",
      "[99]\tvalid_0's auc: 0.758901\tvalid_0's binary_logloss: 0.247067\n",
      "[100]\tvalid_0's auc: 0.75892\tvalid_0's binary_logloss: 0.24706\n",
      "[101]\tvalid_0's auc: 0.758985\tvalid_0's binary_logloss: 0.247047\n",
      "[102]\tvalid_0's auc: 0.758976\tvalid_0's binary_logloss: 0.247036\n",
      "[103]\tvalid_0's auc: 0.759079\tvalid_0's binary_logloss: 0.247007\n",
      "[104]\tvalid_0's auc: 0.758992\tvalid_0's binary_logloss: 0.247037\n",
      "[105]\tvalid_0's auc: 0.759019\tvalid_0's binary_logloss: 0.247035\n",
      "[106]\tvalid_0's auc: 0.759104\tvalid_0's binary_logloss: 0.24701\n",
      "[107]\tvalid_0's auc: 0.759103\tvalid_0's binary_logloss: 0.247013\n",
      "[108]\tvalid_0's auc: 0.759065\tvalid_0's binary_logloss: 0.247025\n",
      "[109]\tvalid_0's auc: 0.759093\tvalid_0's binary_logloss: 0.247015\n",
      "[110]\tvalid_0's auc: 0.759095\tvalid_0's binary_logloss: 0.24702\n",
      "[111]\tvalid_0's auc: 0.759054\tvalid_0's binary_logloss: 0.247019\n",
      "[112]\tvalid_0's auc: 0.759023\tvalid_0's binary_logloss: 0.247034\n",
      "[113]\tvalid_0's auc: 0.759015\tvalid_0's binary_logloss: 0.247043\n",
      "[114]\tvalid_0's auc: 0.759054\tvalid_0's binary_logloss: 0.24704\n",
      "[115]\tvalid_0's auc: 0.759025\tvalid_0's binary_logloss: 0.247047\n",
      "[116]\tvalid_0's auc: 0.758985\tvalid_0's binary_logloss: 0.247056\n",
      "[117]\tvalid_0's auc: 0.759022\tvalid_0's binary_logloss: 0.247032\n",
      "[118]\tvalid_0's auc: 0.759102\tvalid_0's binary_logloss: 0.247016\n",
      "[119]\tvalid_0's auc: 0.759096\tvalid_0's binary_logloss: 0.247021\n",
      "[120]\tvalid_0's auc: 0.75906\tvalid_0's binary_logloss: 0.247034\n",
      "[121]\tvalid_0's auc: 0.75942\tvalid_0's binary_logloss: 0.246951\n",
      "[122]\tvalid_0's auc: 0.759381\tvalid_0's binary_logloss: 0.246976\n",
      "[123]\tvalid_0's auc: 0.759313\tvalid_0's binary_logloss: 0.246993\n",
      "[124]\tvalid_0's auc: 0.759445\tvalid_0's binary_logloss: 0.246946\n",
      "[125]\tvalid_0's auc: 0.759469\tvalid_0's binary_logloss: 0.246945\n",
      "[126]\tvalid_0's auc: 0.759404\tvalid_0's binary_logloss: 0.246958\n",
      "[127]\tvalid_0's auc: 0.759407\tvalid_0's binary_logloss: 0.246952\n",
      "[128]\tvalid_0's auc: 0.759332\tvalid_0's binary_logloss: 0.246978\n",
      "[129]\tvalid_0's auc: 0.759307\tvalid_0's binary_logloss: 0.246995\n",
      "[130]\tvalid_0's auc: 0.75934\tvalid_0's binary_logloss: 0.24698\n",
      "[131]\tvalid_0's auc: 0.759218\tvalid_0's binary_logloss: 0.247007\n",
      "[132]\tvalid_0's auc: 0.759324\tvalid_0's binary_logloss: 0.246985\n",
      "[133]\tvalid_0's auc: 0.759281\tvalid_0's binary_logloss: 0.246998\n",
      "[134]\tvalid_0's auc: 0.759281\tvalid_0's binary_logloss: 0.247012\n",
      "[135]\tvalid_0's auc: 0.759205\tvalid_0's binary_logloss: 0.247033\n",
      "[136]\tvalid_0's auc: 0.759132\tvalid_0's binary_logloss: 0.247061\n",
      "[137]\tvalid_0's auc: 0.759095\tvalid_0's binary_logloss: 0.247063\n",
      "[138]\tvalid_0's auc: 0.75901\tvalid_0's binary_logloss: 0.247087\n",
      "[139]\tvalid_0's auc: 0.759003\tvalid_0's binary_logloss: 0.247092\n",
      "[140]\tvalid_0's auc: 0.759107\tvalid_0's binary_logloss: 0.247063\n",
      "[141]\tvalid_0's auc: 0.759078\tvalid_0's binary_logloss: 0.247072\n",
      "[142]\tvalid_0's auc: 0.75903\tvalid_0's binary_logloss: 0.247083\n",
      "[143]\tvalid_0's auc: 0.758907\tvalid_0's binary_logloss: 0.247112\n",
      "[144]\tvalid_0's auc: 0.758903\tvalid_0's binary_logloss: 0.247118\n",
      "[145]\tvalid_0's auc: 0.758902\tvalid_0's binary_logloss: 0.247114\n",
      "[146]\tvalid_0's auc: 0.758879\tvalid_0's binary_logloss: 0.247121\n",
      "[147]\tvalid_0's auc: 0.758842\tvalid_0's binary_logloss: 0.24713\n",
      "[148]\tvalid_0's auc: 0.758815\tvalid_0's binary_logloss: 0.247134\n",
      "[149]\tvalid_0's auc: 0.758856\tvalid_0's binary_logloss: 0.247122\n",
      "[150]\tvalid_0's auc: 0.758946\tvalid_0's binary_logloss: 0.247104\n",
      "[151]\tvalid_0's auc: 0.758934\tvalid_0's binary_logloss: 0.24711\n",
      "[152]\tvalid_0's auc: 0.758983\tvalid_0's binary_logloss: 0.247103\n",
      "[153]\tvalid_0's auc: 0.758897\tvalid_0's binary_logloss: 0.247127\n",
      "[154]\tvalid_0's auc: 0.758895\tvalid_0's binary_logloss: 0.247141\n",
      "[155]\tvalid_0's auc: 0.75884\tvalid_0's binary_logloss: 0.247159\n",
      "[156]\tvalid_0's auc: 0.758789\tvalid_0's binary_logloss: 0.247174\n",
      "[157]\tvalid_0's auc: 0.758877\tvalid_0's binary_logloss: 0.247129\n",
      "[158]\tvalid_0's auc: 0.758949\tvalid_0's binary_logloss: 0.247117\n",
      "[159]\tvalid_0's auc: 0.758851\tvalid_0's binary_logloss: 0.247142\n",
      "[160]\tvalid_0's auc: 0.758799\tvalid_0's binary_logloss: 0.247162\n",
      "[161]\tvalid_0's auc: 0.758743\tvalid_0's binary_logloss: 0.247184\n",
      "[162]\tvalid_0's auc: 0.758632\tvalid_0's binary_logloss: 0.247205\n",
      "[163]\tvalid_0's auc: 0.758635\tvalid_0's binary_logloss: 0.247206\n",
      "[164]\tvalid_0's auc: 0.758578\tvalid_0's binary_logloss: 0.247225\n",
      "[165]\tvalid_0's auc: 0.758559\tvalid_0's binary_logloss: 0.247235\n",
      "[166]\tvalid_0's auc: 0.758578\tvalid_0's binary_logloss: 0.247217\n",
      "[167]\tvalid_0's auc: 0.758573\tvalid_0's binary_logloss: 0.247215\n",
      "[168]\tvalid_0's auc: 0.758626\tvalid_0's binary_logloss: 0.247193\n",
      "[169]\tvalid_0's auc: 0.758562\tvalid_0's binary_logloss: 0.247198\n",
      "[170]\tvalid_0's auc: 0.758669\tvalid_0's binary_logloss: 0.247171\n",
      "[171]\tvalid_0's auc: 0.75867\tvalid_0's binary_logloss: 0.247174\n",
      "[172]\tvalid_0's auc: 0.758614\tvalid_0's binary_logloss: 0.24719\n",
      "[173]\tvalid_0's auc: 0.758581\tvalid_0's binary_logloss: 0.247212\n",
      "[174]\tvalid_0's auc: 0.758576\tvalid_0's binary_logloss: 0.247207\n",
      "[175]\tvalid_0's auc: 0.758625\tvalid_0's binary_logloss: 0.247196\n",
      "[176]\tvalid_0's auc: 0.758702\tvalid_0's binary_logloss: 0.247167\n",
      "[177]\tvalid_0's auc: 0.758568\tvalid_0's binary_logloss: 0.247206\n",
      "[178]\tvalid_0's auc: 0.758482\tvalid_0's binary_logloss: 0.24723\n",
      "[179]\tvalid_0's auc: 0.758483\tvalid_0's binary_logloss: 0.247225\n",
      "[180]\tvalid_0's auc: 0.758493\tvalid_0's binary_logloss: 0.247236\n",
      "[181]\tvalid_0's auc: 0.758524\tvalid_0's binary_logloss: 0.247228\n",
      "[182]\tvalid_0's auc: 0.75849\tvalid_0's binary_logloss: 0.247248\n",
      "[183]\tvalid_0's auc: 0.758469\tvalid_0's binary_logloss: 0.247257\n",
      "[184]\tvalid_0's auc: 0.758477\tvalid_0's binary_logloss: 0.247258\n",
      "[185]\tvalid_0's auc: 0.758366\tvalid_0's binary_logloss: 0.247299\n",
      "[186]\tvalid_0's auc: 0.75844\tvalid_0's binary_logloss: 0.24728\n",
      "[187]\tvalid_0's auc: 0.75849\tvalid_0's binary_logloss: 0.247265\n",
      "[188]\tvalid_0's auc: 0.758476\tvalid_0's binary_logloss: 0.247275\n",
      "[189]\tvalid_0's auc: 0.758538\tvalid_0's binary_logloss: 0.247269\n",
      "[190]\tvalid_0's auc: 0.758474\tvalid_0's binary_logloss: 0.247289\n",
      "[191]\tvalid_0's auc: 0.758481\tvalid_0's binary_logloss: 0.247276\n",
      "[192]\tvalid_0's auc: 0.75847\tvalid_0's binary_logloss: 0.247284\n",
      "[193]\tvalid_0's auc: 0.758534\tvalid_0's binary_logloss: 0.247267\n",
      "[194]\tvalid_0's auc: 0.758515\tvalid_0's binary_logloss: 0.247286\n",
      "[195]\tvalid_0's auc: 0.75851\tvalid_0's binary_logloss: 0.247294\n",
      "[196]\tvalid_0's auc: 0.758503\tvalid_0's binary_logloss: 0.247296\n",
      "[197]\tvalid_0's auc: 0.758489\tvalid_0's binary_logloss: 0.247303\n",
      "[198]\tvalid_0's auc: 0.75843\tvalid_0's binary_logloss: 0.247318\n",
      "[199]\tvalid_0's auc: 0.758472\tvalid_0's binary_logloss: 0.247316\n",
      "[200]\tvalid_0's auc: 0.758464\tvalid_0's binary_logloss: 0.247311\n",
      "[201]\tvalid_0's auc: 0.758467\tvalid_0's binary_logloss: 0.247299\n",
      "[202]\tvalid_0's auc: 0.758476\tvalid_0's binary_logloss: 0.247306\n",
      "[203]\tvalid_0's auc: 0.75845\tvalid_0's binary_logloss: 0.247306\n",
      "[204]\tvalid_0's auc: 0.758346\tvalid_0's binary_logloss: 0.247325\n",
      "[205]\tvalid_0's auc: 0.758335\tvalid_0's binary_logloss: 0.247335\n",
      "[206]\tvalid_0's auc: 0.758267\tvalid_0's binary_logloss: 0.24736\n",
      "[207]\tvalid_0's auc: 0.75818\tvalid_0's binary_logloss: 0.247383\n",
      "[208]\tvalid_0's auc: 0.758322\tvalid_0's binary_logloss: 0.247348\n",
      "[209]\tvalid_0's auc: 0.758578\tvalid_0's binary_logloss: 0.247294\n",
      "[210]\tvalid_0's auc: 0.758548\tvalid_0's binary_logloss: 0.2473\n",
      "[211]\tvalid_0's auc: 0.758559\tvalid_0's binary_logloss: 0.247301\n",
      "[212]\tvalid_0's auc: 0.758555\tvalid_0's binary_logloss: 0.247292\n",
      "[213]\tvalid_0's auc: 0.758547\tvalid_0's binary_logloss: 0.247296\n",
      "[214]\tvalid_0's auc: 0.758512\tvalid_0's binary_logloss: 0.247317\n",
      "[215]\tvalid_0's auc: 0.758503\tvalid_0's binary_logloss: 0.247326\n",
      "[216]\tvalid_0's auc: 0.758487\tvalid_0's binary_logloss: 0.247333\n",
      "[217]\tvalid_0's auc: 0.758437\tvalid_0's binary_logloss: 0.247334\n",
      "[218]\tvalid_0's auc: 0.758432\tvalid_0's binary_logloss: 0.247337\n",
      "[219]\tvalid_0's auc: 0.758513\tvalid_0's binary_logloss: 0.247325\n",
      "[220]\tvalid_0's auc: 0.758497\tvalid_0's binary_logloss: 0.247336\n",
      "[221]\tvalid_0's auc: 0.75849\tvalid_0's binary_logloss: 0.247343\n",
      "[222]\tvalid_0's auc: 0.7584\tvalid_0's binary_logloss: 0.247373\n",
      "[223]\tvalid_0's auc: 0.758377\tvalid_0's binary_logloss: 0.247385\n",
      "[224]\tvalid_0's auc: 0.758395\tvalid_0's binary_logloss: 0.247386\n",
      "[225]\tvalid_0's auc: 0.758309\tvalid_0's binary_logloss: 0.247406\n"
     ]
    },
    {
     "name": "stderr",
     "output_type": "stream",
     "text": [
      "/opt/conda/lib/python3.7/site-packages/lightgbm/sklearn.py:726: UserWarning: 'early_stopping_rounds' argument is deprecated and will be removed in a future release of LightGBM. Pass 'early_stopping()' callback via 'callbacks' argument instead.\n",
      "  _log_warning(\"'early_stopping_rounds' argument is deprecated and will be removed in a future release of LightGBM. \"\n"
     ]
    },
    {
     "name": "stdout",
     "output_type": "stream",
     "text": [
      "[1]\tvalid_0's auc: 0.719167\tvalid_0's binary_logloss: 0.276063\n",
      "[2]\tvalid_0's auc: 0.725797\tvalid_0's binary_logloss: 0.27171\n",
      "[3]\tvalid_0's auc: 0.728606\tvalid_0's binary_logloss: 0.268506\n",
      "[4]\tvalid_0's auc: 0.729955\tvalid_0's binary_logloss: 0.265853\n",
      "[5]\tvalid_0's auc: 0.731247\tvalid_0's binary_logloss: 0.263653\n",
      "[6]\tvalid_0's auc: 0.733739\tvalid_0's binary_logloss: 0.261825\n",
      "[7]\tvalid_0's auc: 0.735905\tvalid_0's binary_logloss: 0.260266\n",
      "[8]\tvalid_0's auc: 0.737089\tvalid_0's binary_logloss: 0.258874\n",
      "[9]\tvalid_0's auc: 0.738313\tvalid_0's binary_logloss: 0.257786\n",
      "[10]\tvalid_0's auc: 0.738892\tvalid_0's binary_logloss: 0.256848\n",
      "[11]\tvalid_0's auc: 0.740349\tvalid_0's binary_logloss: 0.255975\n",
      "[12]\tvalid_0's auc: 0.741762\tvalid_0's binary_logloss: 0.255169\n",
      "[13]\tvalid_0's auc: 0.742699\tvalid_0's binary_logloss: 0.254484\n",
      "[14]\tvalid_0's auc: 0.743463\tvalid_0's binary_logloss: 0.253926\n",
      "[15]\tvalid_0's auc: 0.744134\tvalid_0's binary_logloss: 0.253344\n",
      "[16]\tvalid_0's auc: 0.745009\tvalid_0's binary_logloss: 0.252852\n",
      "[17]\tvalid_0's auc: 0.745958\tvalid_0's binary_logloss: 0.252369\n",
      "[18]\tvalid_0's auc: 0.746721\tvalid_0's binary_logloss: 0.252007\n",
      "[19]\tvalid_0's auc: 0.747261\tvalid_0's binary_logloss: 0.251675\n",
      "[20]\tvalid_0's auc: 0.748101\tvalid_0's binary_logloss: 0.251252\n",
      "[21]\tvalid_0's auc: 0.748482\tvalid_0's binary_logloss: 0.251026\n",
      "[22]\tvalid_0's auc: 0.748891\tvalid_0's binary_logloss: 0.250764\n",
      "[23]\tvalid_0's auc: 0.749581\tvalid_0's binary_logloss: 0.250468\n",
      "[24]\tvalid_0's auc: 0.750032\tvalid_0's binary_logloss: 0.250241\n",
      "[25]\tvalid_0's auc: 0.750581\tvalid_0's binary_logloss: 0.250013\n",
      "[26]\tvalid_0's auc: 0.751071\tvalid_0's binary_logloss: 0.249779\n",
      "[27]\tvalid_0's auc: 0.751392\tvalid_0's binary_logloss: 0.24962\n",
      "[28]\tvalid_0's auc: 0.752177\tvalid_0's binary_logloss: 0.249373\n",
      "[29]\tvalid_0's auc: 0.752631\tvalid_0's binary_logloss: 0.249195\n",
      "[30]\tvalid_0's auc: 0.753117\tvalid_0's binary_logloss: 0.249032\n",
      "[31]\tvalid_0's auc: 0.753613\tvalid_0's binary_logloss: 0.248849\n",
      "[32]\tvalid_0's auc: 0.753946\tvalid_0's binary_logloss: 0.24871\n",
      "[33]\tvalid_0's auc: 0.754881\tvalid_0's binary_logloss: 0.24843\n",
      "[34]\tvalid_0's auc: 0.755121\tvalid_0's binary_logloss: 0.248325\n",
      "[35]\tvalid_0's auc: 0.75538\tvalid_0's binary_logloss: 0.248216\n",
      "[36]\tvalid_0's auc: 0.755634\tvalid_0's binary_logloss: 0.248106\n",
      "[37]\tvalid_0's auc: 0.756195\tvalid_0's binary_logloss: 0.247941\n",
      "[38]\tvalid_0's auc: 0.756778\tvalid_0's binary_logloss: 0.247787\n",
      "[39]\tvalid_0's auc: 0.756891\tvalid_0's binary_logloss: 0.247723\n",
      "[40]\tvalid_0's auc: 0.757507\tvalid_0's binary_logloss: 0.247572\n",
      "[41]\tvalid_0's auc: 0.757692\tvalid_0's binary_logloss: 0.247497\n",
      "[42]\tvalid_0's auc: 0.757931\tvalid_0's binary_logloss: 0.247423\n",
      "[43]\tvalid_0's auc: 0.758194\tvalid_0's binary_logloss: 0.247342\n",
      "[44]\tvalid_0's auc: 0.758359\tvalid_0's binary_logloss: 0.247266\n",
      "[45]\tvalid_0's auc: 0.758495\tvalid_0's binary_logloss: 0.247215\n",
      "[46]\tvalid_0's auc: 0.758822\tvalid_0's binary_logloss: 0.247126\n",
      "[47]\tvalid_0's auc: 0.758914\tvalid_0's binary_logloss: 0.247056\n",
      "[48]\tvalid_0's auc: 0.759904\tvalid_0's binary_logloss: 0.246781\n",
      "[49]\tvalid_0's auc: 0.760145\tvalid_0's binary_logloss: 0.246725\n",
      "[50]\tvalid_0's auc: 0.760137\tvalid_0's binary_logloss: 0.24672\n",
      "[51]\tvalid_0's auc: 0.760342\tvalid_0's binary_logloss: 0.246646\n",
      "[52]\tvalid_0's auc: 0.760437\tvalid_0's binary_logloss: 0.246602\n",
      "[53]\tvalid_0's auc: 0.760574\tvalid_0's binary_logloss: 0.24656\n",
      "[54]\tvalid_0's auc: 0.76065\tvalid_0's binary_logloss: 0.24653\n",
      "[55]\tvalid_0's auc: 0.760719\tvalid_0's binary_logloss: 0.246503\n",
      "[56]\tvalid_0's auc: 0.760821\tvalid_0's binary_logloss: 0.246481\n",
      "[57]\tvalid_0's auc: 0.760951\tvalid_0's binary_logloss: 0.246438\n",
      "[58]\tvalid_0's auc: 0.760988\tvalid_0's binary_logloss: 0.246415\n",
      "[59]\tvalid_0's auc: 0.761099\tvalid_0's binary_logloss: 0.246386\n",
      "[60]\tvalid_0's auc: 0.761262\tvalid_0's binary_logloss: 0.246331\n",
      "[61]\tvalid_0's auc: 0.761756\tvalid_0's binary_logloss: 0.246172\n",
      "[62]\tvalid_0's auc: 0.761873\tvalid_0's binary_logloss: 0.246141\n",
      "[63]\tvalid_0's auc: 0.761936\tvalid_0's binary_logloss: 0.246113\n",
      "[64]\tvalid_0's auc: 0.761964\tvalid_0's binary_logloss: 0.246096\n",
      "[65]\tvalid_0's auc: 0.762084\tvalid_0's binary_logloss: 0.246056\n",
      "[66]\tvalid_0's auc: 0.762104\tvalid_0's binary_logloss: 0.246039\n",
      "[67]\tvalid_0's auc: 0.762125\tvalid_0's binary_logloss: 0.246034\n",
      "[68]\tvalid_0's auc: 0.762178\tvalid_0's binary_logloss: 0.24602\n",
      "[69]\tvalid_0's auc: 0.76221\tvalid_0's binary_logloss: 0.246008\n",
      "[70]\tvalid_0's auc: 0.7624\tvalid_0's binary_logloss: 0.245968\n",
      "[71]\tvalid_0's auc: 0.762495\tvalid_0's binary_logloss: 0.24595\n",
      "[72]\tvalid_0's auc: 0.762504\tvalid_0's binary_logloss: 0.245932\n",
      "[73]\tvalid_0's auc: 0.762549\tvalid_0's binary_logloss: 0.245925\n",
      "[74]\tvalid_0's auc: 0.762497\tvalid_0's binary_logloss: 0.245948\n",
      "[75]\tvalid_0's auc: 0.762582\tvalid_0's binary_logloss: 0.245915\n",
      "[76]\tvalid_0's auc: 0.76278\tvalid_0's binary_logloss: 0.245867\n",
      "[77]\tvalid_0's auc: 0.762774\tvalid_0's binary_logloss: 0.245877\n",
      "[78]\tvalid_0's auc: 0.762857\tvalid_0's binary_logloss: 0.245858\n",
      "[79]\tvalid_0's auc: 0.762902\tvalid_0's binary_logloss: 0.245833\n",
      "[80]\tvalid_0's auc: 0.762883\tvalid_0's binary_logloss: 0.245831\n",
      "[81]\tvalid_0's auc: 0.762877\tvalid_0's binary_logloss: 0.245845\n",
      "[82]\tvalid_0's auc: 0.763025\tvalid_0's binary_logloss: 0.245792\n",
      "[83]\tvalid_0's auc: 0.763134\tvalid_0's binary_logloss: 0.245774\n",
      "[84]\tvalid_0's auc: 0.763262\tvalid_0's binary_logloss: 0.245746\n",
      "[85]\tvalid_0's auc: 0.763232\tvalid_0's binary_logloss: 0.245754\n",
      "[86]\tvalid_0's auc: 0.763227\tvalid_0's binary_logloss: 0.245751\n",
      "[87]\tvalid_0's auc: 0.763104\tvalid_0's binary_logloss: 0.245776\n",
      "[88]\tvalid_0's auc: 0.763174\tvalid_0's binary_logloss: 0.245763\n",
      "[89]\tvalid_0's auc: 0.763141\tvalid_0's binary_logloss: 0.245771\n",
      "[90]\tvalid_0's auc: 0.76315\tvalid_0's binary_logloss: 0.24575\n",
      "[91]\tvalid_0's auc: 0.76309\tvalid_0's binary_logloss: 0.245782\n",
      "[92]\tvalid_0's auc: 0.763069\tvalid_0's binary_logloss: 0.245785\n",
      "[93]\tvalid_0's auc: 0.763038\tvalid_0's binary_logloss: 0.245781\n",
      "[94]\tvalid_0's auc: 0.763027\tvalid_0's binary_logloss: 0.245775\n",
      "[95]\tvalid_0's auc: 0.763077\tvalid_0's binary_logloss: 0.245766\n",
      "[96]\tvalid_0's auc: 0.763165\tvalid_0's binary_logloss: 0.245752\n",
      "[97]\tvalid_0's auc: 0.763148\tvalid_0's binary_logloss: 0.245761\n",
      "[98]\tvalid_0's auc: 0.763191\tvalid_0's binary_logloss: 0.245746\n",
      "[99]\tvalid_0's auc: 0.763187\tvalid_0's binary_logloss: 0.245739\n",
      "[100]\tvalid_0's auc: 0.763144\tvalid_0's binary_logloss: 0.245724\n",
      "[101]\tvalid_0's auc: 0.763227\tvalid_0's binary_logloss: 0.245718\n",
      "[102]\tvalid_0's auc: 0.763257\tvalid_0's binary_logloss: 0.245712\n",
      "[103]\tvalid_0's auc: 0.763254\tvalid_0's binary_logloss: 0.245714\n",
      "[104]\tvalid_0's auc: 0.763317\tvalid_0's binary_logloss: 0.245708\n",
      "[105]\tvalid_0's auc: 0.763266\tvalid_0's binary_logloss: 0.245719\n",
      "[106]\tvalid_0's auc: 0.763194\tvalid_0's binary_logloss: 0.245719\n",
      "[107]\tvalid_0's auc: 0.76326\tvalid_0's binary_logloss: 0.24569\n",
      "[108]\tvalid_0's auc: 0.763424\tvalid_0's binary_logloss: 0.245641\n",
      "[109]\tvalid_0's auc: 0.763447\tvalid_0's binary_logloss: 0.245631\n",
      "[110]\tvalid_0's auc: 0.763439\tvalid_0's binary_logloss: 0.245633\n",
      "[111]\tvalid_0's auc: 0.763394\tvalid_0's binary_logloss: 0.245648\n",
      "[112]\tvalid_0's auc: 0.763337\tvalid_0's binary_logloss: 0.245661\n",
      "[113]\tvalid_0's auc: 0.763479\tvalid_0's binary_logloss: 0.245619\n",
      "[114]\tvalid_0's auc: 0.763544\tvalid_0's binary_logloss: 0.245611\n",
      "[115]\tvalid_0's auc: 0.763597\tvalid_0's binary_logloss: 0.245597\n",
      "[116]\tvalid_0's auc: 0.763524\tvalid_0's binary_logloss: 0.245614\n",
      "[117]\tvalid_0's auc: 0.763551\tvalid_0's binary_logloss: 0.245608\n",
      "[118]\tvalid_0's auc: 0.763511\tvalid_0's binary_logloss: 0.245633\n",
      "[119]\tvalid_0's auc: 0.763541\tvalid_0's binary_logloss: 0.245621\n",
      "[120]\tvalid_0's auc: 0.763478\tvalid_0's binary_logloss: 0.245645\n",
      "[121]\tvalid_0's auc: 0.763493\tvalid_0's binary_logloss: 0.24565\n",
      "[122]\tvalid_0's auc: 0.763419\tvalid_0's binary_logloss: 0.245663\n",
      "[123]\tvalid_0's auc: 0.763692\tvalid_0's binary_logloss: 0.245577\n",
      "[124]\tvalid_0's auc: 0.763693\tvalid_0's binary_logloss: 0.245572\n",
      "[125]\tvalid_0's auc: 0.763627\tvalid_0's binary_logloss: 0.245584\n",
      "[126]\tvalid_0's auc: 0.763599\tvalid_0's binary_logloss: 0.245592\n",
      "[127]\tvalid_0's auc: 0.763555\tvalid_0's binary_logloss: 0.245607\n",
      "[128]\tvalid_0's auc: 0.763575\tvalid_0's binary_logloss: 0.245602\n",
      "[129]\tvalid_0's auc: 0.76369\tvalid_0's binary_logloss: 0.245574\n",
      "[130]\tvalid_0's auc: 0.763652\tvalid_0's binary_logloss: 0.245588\n",
      "[131]\tvalid_0's auc: 0.763617\tvalid_0's binary_logloss: 0.245603\n",
      "[132]\tvalid_0's auc: 0.763517\tvalid_0's binary_logloss: 0.245629\n",
      "[133]\tvalid_0's auc: 0.763555\tvalid_0's binary_logloss: 0.245624\n",
      "[134]\tvalid_0's auc: 0.763465\tvalid_0's binary_logloss: 0.245649\n",
      "[135]\tvalid_0's auc: 0.763434\tvalid_0's binary_logloss: 0.245654\n",
      "[136]\tvalid_0's auc: 0.763412\tvalid_0's binary_logloss: 0.245663\n",
      "[137]\tvalid_0's auc: 0.76348\tvalid_0's binary_logloss: 0.24565\n",
      "[138]\tvalid_0's auc: 0.763475\tvalid_0's binary_logloss: 0.245649\n",
      "[139]\tvalid_0's auc: 0.763615\tvalid_0's binary_logloss: 0.245615\n",
      "[140]\tvalid_0's auc: 0.763801\tvalid_0's binary_logloss: 0.245567\n",
      "[141]\tvalid_0's auc: 0.763876\tvalid_0's binary_logloss: 0.245546\n",
      "[142]\tvalid_0's auc: 0.763924\tvalid_0's binary_logloss: 0.245531\n",
      "[143]\tvalid_0's auc: 0.763833\tvalid_0's binary_logloss: 0.245549\n",
      "[144]\tvalid_0's auc: 0.76396\tvalid_0's binary_logloss: 0.245522\n",
      "[145]\tvalid_0's auc: 0.76394\tvalid_0's binary_logloss: 0.245515\n",
      "[146]\tvalid_0's auc: 0.763833\tvalid_0's binary_logloss: 0.245536\n",
      "[147]\tvalid_0's auc: 0.763841\tvalid_0's binary_logloss: 0.245526\n",
      "[148]\tvalid_0's auc: 0.7639\tvalid_0's binary_logloss: 0.245511\n",
      "[149]\tvalid_0's auc: 0.763815\tvalid_0's binary_logloss: 0.245529\n",
      "[150]\tvalid_0's auc: 0.76366\tvalid_0's binary_logloss: 0.245561\n",
      "[151]\tvalid_0's auc: 0.763653\tvalid_0's binary_logloss: 0.245576\n",
      "[152]\tvalid_0's auc: 0.763748\tvalid_0's binary_logloss: 0.245561\n",
      "[153]\tvalid_0's auc: 0.763782\tvalid_0's binary_logloss: 0.245552\n",
      "[154]\tvalid_0's auc: 0.763803\tvalid_0's binary_logloss: 0.245548\n",
      "[155]\tvalid_0's auc: 0.763725\tvalid_0's binary_logloss: 0.245567\n",
      "[156]\tvalid_0's auc: 0.763671\tvalid_0's binary_logloss: 0.24558\n",
      "[157]\tvalid_0's auc: 0.763736\tvalid_0's binary_logloss: 0.24556\n",
      "[158]\tvalid_0's auc: 0.763691\tvalid_0's binary_logloss: 0.245568\n",
      "[159]\tvalid_0's auc: 0.76369\tvalid_0's binary_logloss: 0.245569\n",
      "[160]\tvalid_0's auc: 0.763604\tvalid_0's binary_logloss: 0.245602\n",
      "[161]\tvalid_0's auc: 0.763596\tvalid_0's binary_logloss: 0.245608\n",
      "[162]\tvalid_0's auc: 0.763617\tvalid_0's binary_logloss: 0.245607\n",
      "[163]\tvalid_0's auc: 0.763628\tvalid_0's binary_logloss: 0.245608\n",
      "[164]\tvalid_0's auc: 0.763608\tvalid_0's binary_logloss: 0.245623\n",
      "[165]\tvalid_0's auc: 0.763564\tvalid_0's binary_logloss: 0.245624\n",
      "[166]\tvalid_0's auc: 0.763583\tvalid_0's binary_logloss: 0.245623\n",
      "[167]\tvalid_0's auc: 0.763548\tvalid_0's binary_logloss: 0.245631\n",
      "[168]\tvalid_0's auc: 0.763584\tvalid_0's binary_logloss: 0.245627\n",
      "[169]\tvalid_0's auc: 0.763567\tvalid_0's binary_logloss: 0.245626\n",
      "[170]\tvalid_0's auc: 0.763513\tvalid_0's binary_logloss: 0.245648\n",
      "[171]\tvalid_0's auc: 0.763487\tvalid_0's binary_logloss: 0.245652\n",
      "[172]\tvalid_0's auc: 0.763419\tvalid_0's binary_logloss: 0.24567\n",
      "[173]\tvalid_0's auc: 0.763402\tvalid_0's binary_logloss: 0.245678\n",
      "[174]\tvalid_0's auc: 0.763408\tvalid_0's binary_logloss: 0.24567\n",
      "[175]\tvalid_0's auc: 0.763288\tvalid_0's binary_logloss: 0.245708\n",
      "[176]\tvalid_0's auc: 0.76321\tvalid_0's binary_logloss: 0.245745\n",
      "[177]\tvalid_0's auc: 0.763183\tvalid_0's binary_logloss: 0.24576\n",
      "[178]\tvalid_0's auc: 0.763095\tvalid_0's binary_logloss: 0.245786\n",
      "[179]\tvalid_0's auc: 0.763211\tvalid_0's binary_logloss: 0.24576\n",
      "[180]\tvalid_0's auc: 0.763137\tvalid_0's binary_logloss: 0.245787\n",
      "[181]\tvalid_0's auc: 0.763025\tvalid_0's binary_logloss: 0.245811\n",
      "[182]\tvalid_0's auc: 0.763025\tvalid_0's binary_logloss: 0.245804\n",
      "[183]\tvalid_0's auc: 0.762961\tvalid_0's binary_logloss: 0.245823\n",
      "[184]\tvalid_0's auc: 0.762962\tvalid_0's binary_logloss: 0.245833\n",
      "[185]\tvalid_0's auc: 0.762999\tvalid_0's binary_logloss: 0.245836\n",
      "[186]\tvalid_0's auc: 0.76309\tvalid_0's binary_logloss: 0.245805\n",
      "[187]\tvalid_0's auc: 0.763108\tvalid_0's binary_logloss: 0.245803\n",
      "[188]\tvalid_0's auc: 0.763082\tvalid_0's binary_logloss: 0.245805\n",
      "[189]\tvalid_0's auc: 0.763019\tvalid_0's binary_logloss: 0.245827\n",
      "[190]\tvalid_0's auc: 0.763109\tvalid_0's binary_logloss: 0.245821\n",
      "[191]\tvalid_0's auc: 0.763147\tvalid_0's binary_logloss: 0.245814\n",
      "[192]\tvalid_0's auc: 0.763093\tvalid_0's binary_logloss: 0.245832\n",
      "[193]\tvalid_0's auc: 0.763055\tvalid_0's binary_logloss: 0.245837\n",
      "[194]\tvalid_0's auc: 0.763139\tvalid_0's binary_logloss: 0.245809\n",
      "[195]\tvalid_0's auc: 0.763107\tvalid_0's binary_logloss: 0.24581\n",
      "[196]\tvalid_0's auc: 0.763083\tvalid_0's binary_logloss: 0.245814\n",
      "[197]\tvalid_0's auc: 0.763088\tvalid_0's binary_logloss: 0.245825\n",
      "[198]\tvalid_0's auc: 0.763093\tvalid_0's binary_logloss: 0.245833\n",
      "[199]\tvalid_0's auc: 0.763093\tvalid_0's binary_logloss: 0.245831\n",
      "[200]\tvalid_0's auc: 0.763063\tvalid_0's binary_logloss: 0.245839\n",
      "[201]\tvalid_0's auc: 0.762978\tvalid_0's binary_logloss: 0.24586\n",
      "[202]\tvalid_0's auc: 0.762944\tvalid_0's binary_logloss: 0.245879\n",
      "[203]\tvalid_0's auc: 0.762901\tvalid_0's binary_logloss: 0.245894\n",
      "[204]\tvalid_0's auc: 0.762839\tvalid_0's binary_logloss: 0.245904\n",
      "[205]\tvalid_0's auc: 0.762921\tvalid_0's binary_logloss: 0.24589\n",
      "[206]\tvalid_0's auc: 0.762899\tvalid_0's binary_logloss: 0.245903\n",
      "[207]\tvalid_0's auc: 0.762889\tvalid_0's binary_logloss: 0.245906\n",
      "[208]\tvalid_0's auc: 0.762872\tvalid_0's binary_logloss: 0.245906\n",
      "[209]\tvalid_0's auc: 0.76287\tvalid_0's binary_logloss: 0.245911\n",
      "[210]\tvalid_0's auc: 0.762839\tvalid_0's binary_logloss: 0.245922\n",
      "[211]\tvalid_0's auc: 0.762764\tvalid_0's binary_logloss: 0.245944\n",
      "[212]\tvalid_0's auc: 0.762792\tvalid_0's binary_logloss: 0.245939\n",
      "[213]\tvalid_0's auc: 0.762799\tvalid_0's binary_logloss: 0.245942\n",
      "[214]\tvalid_0's auc: 0.762797\tvalid_0's binary_logloss: 0.245958\n",
      "[215]\tvalid_0's auc: 0.762832\tvalid_0's binary_logloss: 0.245936\n",
      "[216]\tvalid_0's auc: 0.762864\tvalid_0's binary_logloss: 0.245942\n",
      "[217]\tvalid_0's auc: 0.762879\tvalid_0's binary_logloss: 0.245935\n",
      "[218]\tvalid_0's auc: 0.762859\tvalid_0's binary_logloss: 0.245945\n",
      "[219]\tvalid_0's auc: 0.762916\tvalid_0's binary_logloss: 0.245938\n",
      "[220]\tvalid_0's auc: 0.762923\tvalid_0's binary_logloss: 0.245933\n",
      "[221]\tvalid_0's auc: 0.762898\tvalid_0's binary_logloss: 0.245939\n",
      "[222]\tvalid_0's auc: 0.762842\tvalid_0's binary_logloss: 0.245957\n",
      "[223]\tvalid_0's auc: 0.762848\tvalid_0's binary_logloss: 0.245954\n",
      "[224]\tvalid_0's auc: 0.762845\tvalid_0's binary_logloss: 0.245963\n",
      "[225]\tvalid_0's auc: 0.762951\tvalid_0's binary_logloss: 0.245948\n",
      "[226]\tvalid_0's auc: 0.762977\tvalid_0's binary_logloss: 0.24594\n",
      "[227]\tvalid_0's auc: 0.76316\tvalid_0's binary_logloss: 0.245877\n",
      "[228]\tvalid_0's auc: 0.763116\tvalid_0's binary_logloss: 0.245881\n",
      "[229]\tvalid_0's auc: 0.763113\tvalid_0's binary_logloss: 0.245881\n",
      "[230]\tvalid_0's auc: 0.763101\tvalid_0's binary_logloss: 0.245881\n",
      "[231]\tvalid_0's auc: 0.763066\tvalid_0's binary_logloss: 0.245895\n",
      "[232]\tvalid_0's auc: 0.763014\tvalid_0's binary_logloss: 0.245912\n",
      "[233]\tvalid_0's auc: 0.76306\tvalid_0's binary_logloss: 0.245904\n",
      "[234]\tvalid_0's auc: 0.763164\tvalid_0's binary_logloss: 0.245874\n",
      "[235]\tvalid_0's auc: 0.763111\tvalid_0's binary_logloss: 0.245893\n",
      "[236]\tvalid_0's auc: 0.763056\tvalid_0's binary_logloss: 0.245906\n",
      "[237]\tvalid_0's auc: 0.763035\tvalid_0's binary_logloss: 0.245912\n",
      "[238]\tvalid_0's auc: 0.763066\tvalid_0's binary_logloss: 0.245904\n",
      "[239]\tvalid_0's auc: 0.763062\tvalid_0's binary_logloss: 0.2459\n",
      "[240]\tvalid_0's auc: 0.763058\tvalid_0's binary_logloss: 0.245897\n",
      "[241]\tvalid_0's auc: 0.763037\tvalid_0's binary_logloss: 0.245906\n",
      "[242]\tvalid_0's auc: 0.762988\tvalid_0's binary_logloss: 0.245922\n",
      "[243]\tvalid_0's auc: 0.762952\tvalid_0's binary_logloss: 0.245938\n",
      "[244]\tvalid_0's auc: 0.762982\tvalid_0's binary_logloss: 0.245925\n"
     ]
    },
    {
     "name": "stderr",
     "output_type": "stream",
     "text": [
      "/opt/conda/lib/python3.7/site-packages/lightgbm/sklearn.py:726: UserWarning: 'early_stopping_rounds' argument is deprecated and will be removed in a future release of LightGBM. Pass 'early_stopping()' callback via 'callbacks' argument instead.\n",
      "  _log_warning(\"'early_stopping_rounds' argument is deprecated and will be removed in a future release of LightGBM. \"\n"
     ]
    },
    {
     "name": "stdout",
     "output_type": "stream",
     "text": [
      "[1]\tvalid_0's auc: 0.71963\tvalid_0's binary_logloss: 0.276125\n",
      "[2]\tvalid_0's auc: 0.724601\tvalid_0's binary_logloss: 0.271876\n",
      "[3]\tvalid_0's auc: 0.729053\tvalid_0's binary_logloss: 0.268589\n",
      "[4]\tvalid_0's auc: 0.730211\tvalid_0's binary_logloss: 0.265916\n",
      "[5]\tvalid_0's auc: 0.732796\tvalid_0's binary_logloss: 0.263785\n",
      "[6]\tvalid_0's auc: 0.733543\tvalid_0's binary_logloss: 0.262068\n",
      "[7]\tvalid_0's auc: 0.734946\tvalid_0's binary_logloss: 0.260581\n",
      "[8]\tvalid_0's auc: 0.736221\tvalid_0's binary_logloss: 0.259296\n",
      "[9]\tvalid_0's auc: 0.737636\tvalid_0's binary_logloss: 0.258153\n",
      "[10]\tvalid_0's auc: 0.738496\tvalid_0's binary_logloss: 0.257272\n",
      "[11]\tvalid_0's auc: 0.73917\tvalid_0's binary_logloss: 0.256477\n",
      "[12]\tvalid_0's auc: 0.739962\tvalid_0's binary_logloss: 0.255748\n",
      "[13]\tvalid_0's auc: 0.741024\tvalid_0's binary_logloss: 0.25509\n",
      "[14]\tvalid_0's auc: 0.741987\tvalid_0's binary_logloss: 0.254519\n",
      "[15]\tvalid_0's auc: 0.742886\tvalid_0's binary_logloss: 0.25397\n",
      "[16]\tvalid_0's auc: 0.743526\tvalid_0's binary_logloss: 0.25352\n",
      "[17]\tvalid_0's auc: 0.744366\tvalid_0's binary_logloss: 0.253083\n",
      "[18]\tvalid_0's auc: 0.744794\tvalid_0's binary_logloss: 0.252746\n",
      "[19]\tvalid_0's auc: 0.745891\tvalid_0's binary_logloss: 0.252329\n",
      "[20]\tvalid_0's auc: 0.746477\tvalid_0's binary_logloss: 0.252015\n",
      "[21]\tvalid_0's auc: 0.747315\tvalid_0's binary_logloss: 0.251659\n",
      "[22]\tvalid_0's auc: 0.747617\tvalid_0's binary_logloss: 0.251431\n",
      "[23]\tvalid_0's auc: 0.748058\tvalid_0's binary_logloss: 0.251224\n",
      "[24]\tvalid_0's auc: 0.748829\tvalid_0's binary_logloss: 0.250941\n",
      "[25]\tvalid_0's auc: 0.749236\tvalid_0's binary_logloss: 0.250735\n",
      "[26]\tvalid_0's auc: 0.749845\tvalid_0's binary_logloss: 0.250512\n",
      "[27]\tvalid_0's auc: 0.7501\tvalid_0's binary_logloss: 0.250383\n",
      "[28]\tvalid_0's auc: 0.750737\tvalid_0's binary_logloss: 0.250185\n",
      "[29]\tvalid_0's auc: 0.751537\tvalid_0's binary_logloss: 0.249945\n",
      "[30]\tvalid_0's auc: 0.751949\tvalid_0's binary_logloss: 0.249797\n",
      "[31]\tvalid_0's auc: 0.752949\tvalid_0's binary_logloss: 0.249517\n",
      "[32]\tvalid_0's auc: 0.753517\tvalid_0's binary_logloss: 0.249332\n",
      "[33]\tvalid_0's auc: 0.754005\tvalid_0's binary_logloss: 0.249182\n",
      "[34]\tvalid_0's auc: 0.754491\tvalid_0's binary_logloss: 0.249\n",
      "[35]\tvalid_0's auc: 0.755728\tvalid_0's binary_logloss: 0.248652\n",
      "[36]\tvalid_0's auc: 0.756109\tvalid_0's binary_logloss: 0.248523\n",
      "[37]\tvalid_0's auc: 0.756368\tvalid_0's binary_logloss: 0.248435\n",
      "[38]\tvalid_0's auc: 0.75675\tvalid_0's binary_logloss: 0.248321\n",
      "[39]\tvalid_0's auc: 0.757323\tvalid_0's binary_logloss: 0.248169\n",
      "[40]\tvalid_0's auc: 0.757635\tvalid_0's binary_logloss: 0.248074\n",
      "[41]\tvalid_0's auc: 0.757761\tvalid_0's binary_logloss: 0.248003\n",
      "[42]\tvalid_0's auc: 0.757893\tvalid_0's binary_logloss: 0.247942\n",
      "[43]\tvalid_0's auc: 0.758309\tvalid_0's binary_logloss: 0.247802\n",
      "[44]\tvalid_0's auc: 0.759261\tvalid_0's binary_logloss: 0.247544\n",
      "[45]\tvalid_0's auc: 0.75944\tvalid_0's binary_logloss: 0.247483\n",
      "[46]\tvalid_0's auc: 0.759533\tvalid_0's binary_logloss: 0.247426\n",
      "[47]\tvalid_0's auc: 0.759624\tvalid_0's binary_logloss: 0.24738\n",
      "[48]\tvalid_0's auc: 0.760245\tvalid_0's binary_logloss: 0.24721\n",
      "[49]\tvalid_0's auc: 0.760362\tvalid_0's binary_logloss: 0.24718\n",
      "[50]\tvalid_0's auc: 0.760876\tvalid_0's binary_logloss: 0.247048\n",
      "[51]\tvalid_0's auc: 0.760988\tvalid_0's binary_logloss: 0.247009\n",
      "[52]\tvalid_0's auc: 0.761141\tvalid_0's binary_logloss: 0.246954\n",
      "[53]\tvalid_0's auc: 0.761426\tvalid_0's binary_logloss: 0.246867\n",
      "[54]\tvalid_0's auc: 0.761527\tvalid_0's binary_logloss: 0.246831\n",
      "[55]\tvalid_0's auc: 0.761594\tvalid_0's binary_logloss: 0.246797\n",
      "[56]\tvalid_0's auc: 0.761694\tvalid_0's binary_logloss: 0.246756\n",
      "[57]\tvalid_0's auc: 0.761838\tvalid_0's binary_logloss: 0.246726\n",
      "[58]\tvalid_0's auc: 0.762138\tvalid_0's binary_logloss: 0.246653\n",
      "[59]\tvalid_0's auc: 0.762339\tvalid_0's binary_logloss: 0.2466\n",
      "[60]\tvalid_0's auc: 0.762276\tvalid_0's binary_logloss: 0.246603\n",
      "[61]\tvalid_0's auc: 0.762277\tvalid_0's binary_logloss: 0.246607\n",
      "[62]\tvalid_0's auc: 0.762462\tvalid_0's binary_logloss: 0.246564\n",
      "[63]\tvalid_0's auc: 0.762602\tvalid_0's binary_logloss: 0.246533\n",
      "[64]\tvalid_0's auc: 0.76271\tvalid_0's binary_logloss: 0.24651\n",
      "[65]\tvalid_0's auc: 0.762611\tvalid_0's binary_logloss: 0.246532\n",
      "[66]\tvalid_0's auc: 0.762777\tvalid_0's binary_logloss: 0.246489\n",
      "[67]\tvalid_0's auc: 0.7627\tvalid_0's binary_logloss: 0.246505\n",
      "[68]\tvalid_0's auc: 0.762729\tvalid_0's binary_logloss: 0.2465\n",
      "[69]\tvalid_0's auc: 0.763258\tvalid_0's binary_logloss: 0.246348\n",
      "[70]\tvalid_0's auc: 0.763225\tvalid_0's binary_logloss: 0.246345\n",
      "[71]\tvalid_0's auc: 0.763251\tvalid_0's binary_logloss: 0.246352\n",
      "[72]\tvalid_0's auc: 0.76326\tvalid_0's binary_logloss: 0.246343\n",
      "[73]\tvalid_0's auc: 0.763118\tvalid_0's binary_logloss: 0.246373\n",
      "[74]\tvalid_0's auc: 0.763214\tvalid_0's binary_logloss: 0.246354\n",
      "[75]\tvalid_0's auc: 0.763174\tvalid_0's binary_logloss: 0.246359\n",
      "[76]\tvalid_0's auc: 0.763414\tvalid_0's binary_logloss: 0.246291\n",
      "[77]\tvalid_0's auc: 0.763445\tvalid_0's binary_logloss: 0.246277\n",
      "[78]\tvalid_0's auc: 0.763532\tvalid_0's binary_logloss: 0.246244\n",
      "[79]\tvalid_0's auc: 0.763628\tvalid_0's binary_logloss: 0.246199\n",
      "[80]\tvalid_0's auc: 0.763757\tvalid_0's binary_logloss: 0.24616\n",
      "[81]\tvalid_0's auc: 0.763706\tvalid_0's binary_logloss: 0.246173\n",
      "[82]\tvalid_0's auc: 0.763609\tvalid_0's binary_logloss: 0.246186\n",
      "[83]\tvalid_0's auc: 0.763573\tvalid_0's binary_logloss: 0.246193\n",
      "[84]\tvalid_0's auc: 0.763564\tvalid_0's binary_logloss: 0.246196\n",
      "[85]\tvalid_0's auc: 0.763475\tvalid_0's binary_logloss: 0.246205\n",
      "[86]\tvalid_0's auc: 0.763501\tvalid_0's binary_logloss: 0.246198\n",
      "[87]\tvalid_0's auc: 0.763534\tvalid_0's binary_logloss: 0.246184\n",
      "[88]\tvalid_0's auc: 0.763553\tvalid_0's binary_logloss: 0.246172\n",
      "[89]\tvalid_0's auc: 0.763997\tvalid_0's binary_logloss: 0.246039\n",
      "[90]\tvalid_0's auc: 0.763997\tvalid_0's binary_logloss: 0.246033\n",
      "[91]\tvalid_0's auc: 0.763949\tvalid_0's binary_logloss: 0.246041\n",
      "[92]\tvalid_0's auc: 0.764099\tvalid_0's binary_logloss: 0.246002\n",
      "[93]\tvalid_0's auc: 0.764128\tvalid_0's binary_logloss: 0.245987\n",
      "[94]\tvalid_0's auc: 0.764203\tvalid_0's binary_logloss: 0.245971\n",
      "[95]\tvalid_0's auc: 0.764182\tvalid_0's binary_logloss: 0.245968\n",
      "[96]\tvalid_0's auc: 0.764181\tvalid_0's binary_logloss: 0.245961\n",
      "[97]\tvalid_0's auc: 0.764149\tvalid_0's binary_logloss: 0.245971\n",
      "[98]\tvalid_0's auc: 0.764199\tvalid_0's binary_logloss: 0.245956\n",
      "[99]\tvalid_0's auc: 0.764078\tvalid_0's binary_logloss: 0.245977\n",
      "[100]\tvalid_0's auc: 0.764105\tvalid_0's binary_logloss: 0.245952\n",
      "[101]\tvalid_0's auc: 0.764104\tvalid_0's binary_logloss: 0.245947\n",
      "[102]\tvalid_0's auc: 0.764048\tvalid_0's binary_logloss: 0.245957\n",
      "[103]\tvalid_0's auc: 0.764051\tvalid_0's binary_logloss: 0.245948\n",
      "[104]\tvalid_0's auc: 0.764083\tvalid_0's binary_logloss: 0.24595\n",
      "[105]\tvalid_0's auc: 0.764159\tvalid_0's binary_logloss: 0.245936\n",
      "[106]\tvalid_0's auc: 0.764139\tvalid_0's binary_logloss: 0.245938\n",
      "[107]\tvalid_0's auc: 0.76398\tvalid_0's binary_logloss: 0.24598\n",
      "[108]\tvalid_0's auc: 0.764015\tvalid_0's binary_logloss: 0.245964\n",
      "[109]\tvalid_0's auc: 0.764065\tvalid_0's binary_logloss: 0.245954\n",
      "[110]\tvalid_0's auc: 0.764036\tvalid_0's binary_logloss: 0.245952\n",
      "[111]\tvalid_0's auc: 0.763961\tvalid_0's binary_logloss: 0.245975\n",
      "[112]\tvalid_0's auc: 0.763989\tvalid_0's binary_logloss: 0.245972\n",
      "[113]\tvalid_0's auc: 0.764052\tvalid_0's binary_logloss: 0.245946\n",
      "[114]\tvalid_0's auc: 0.763943\tvalid_0's binary_logloss: 0.245991\n",
      "[115]\tvalid_0's auc: 0.764008\tvalid_0's binary_logloss: 0.245978\n",
      "[116]\tvalid_0's auc: 0.763997\tvalid_0's binary_logloss: 0.245989\n",
      "[117]\tvalid_0's auc: 0.763984\tvalid_0's binary_logloss: 0.245992\n",
      "[118]\tvalid_0's auc: 0.763905\tvalid_0's binary_logloss: 0.246009\n",
      "[119]\tvalid_0's auc: 0.763864\tvalid_0's binary_logloss: 0.246031\n",
      "[120]\tvalid_0's auc: 0.763906\tvalid_0's binary_logloss: 0.246022\n",
      "[121]\tvalid_0's auc: 0.763927\tvalid_0's binary_logloss: 0.246021\n",
      "[122]\tvalid_0's auc: 0.764031\tvalid_0's binary_logloss: 0.24597\n",
      "[123]\tvalid_0's auc: 0.763957\tvalid_0's binary_logloss: 0.245985\n",
      "[124]\tvalid_0's auc: 0.763915\tvalid_0's binary_logloss: 0.245998\n",
      "[125]\tvalid_0's auc: 0.763905\tvalid_0's binary_logloss: 0.246001\n",
      "[126]\tvalid_0's auc: 0.763978\tvalid_0's binary_logloss: 0.245987\n",
      "[127]\tvalid_0's auc: 0.763981\tvalid_0's binary_logloss: 0.245988\n",
      "[128]\tvalid_0's auc: 0.764017\tvalid_0's binary_logloss: 0.245975\n",
      "[129]\tvalid_0's auc: 0.763966\tvalid_0's binary_logloss: 0.245993\n",
      "[130]\tvalid_0's auc: 0.763959\tvalid_0's binary_logloss: 0.245998\n",
      "[131]\tvalid_0's auc: 0.763894\tvalid_0's binary_logloss: 0.246006\n",
      "[132]\tvalid_0's auc: 0.763988\tvalid_0's binary_logloss: 0.245978\n",
      "[133]\tvalid_0's auc: 0.764034\tvalid_0's binary_logloss: 0.245955\n",
      "[134]\tvalid_0's auc: 0.764002\tvalid_0's binary_logloss: 0.245969\n",
      "[135]\tvalid_0's auc: 0.764012\tvalid_0's binary_logloss: 0.245979\n",
      "[136]\tvalid_0's auc: 0.764105\tvalid_0's binary_logloss: 0.245964\n",
      "[137]\tvalid_0's auc: 0.763981\tvalid_0's binary_logloss: 0.245998\n",
      "[138]\tvalid_0's auc: 0.763972\tvalid_0's binary_logloss: 0.246003\n",
      "[139]\tvalid_0's auc: 0.764056\tvalid_0's binary_logloss: 0.245981\n",
      "[140]\tvalid_0's auc: 0.764042\tvalid_0's binary_logloss: 0.245989\n",
      "[141]\tvalid_0's auc: 0.764112\tvalid_0's binary_logloss: 0.24598\n",
      "[142]\tvalid_0's auc: 0.764194\tvalid_0's binary_logloss: 0.245956\n",
      "[143]\tvalid_0's auc: 0.764175\tvalid_0's binary_logloss: 0.245967\n",
      "[144]\tvalid_0's auc: 0.764148\tvalid_0's binary_logloss: 0.245963\n",
      "[145]\tvalid_0's auc: 0.764065\tvalid_0's binary_logloss: 0.245981\n",
      "[146]\tvalid_0's auc: 0.763991\tvalid_0's binary_logloss: 0.246\n",
      "[147]\tvalid_0's auc: 0.764011\tvalid_0's binary_logloss: 0.246005\n",
      "[148]\tvalid_0's auc: 0.763977\tvalid_0's binary_logloss: 0.246012\n",
      "[149]\tvalid_0's auc: 0.764003\tvalid_0's binary_logloss: 0.246007\n",
      "[150]\tvalid_0's auc: 0.763949\tvalid_0's binary_logloss: 0.246022\n",
      "[151]\tvalid_0's auc: 0.763903\tvalid_0's binary_logloss: 0.246034\n",
      "[152]\tvalid_0's auc: 0.763831\tvalid_0's binary_logloss: 0.246051\n",
      "[153]\tvalid_0's auc: 0.76387\tvalid_0's binary_logloss: 0.246039\n",
      "[154]\tvalid_0's auc: 0.763892\tvalid_0's binary_logloss: 0.246028\n",
      "[155]\tvalid_0's auc: 0.76392\tvalid_0's binary_logloss: 0.246021\n",
      "[156]\tvalid_0's auc: 0.763909\tvalid_0's binary_logloss: 0.24602\n",
      "[157]\tvalid_0's auc: 0.763915\tvalid_0's binary_logloss: 0.246011\n",
      "[158]\tvalid_0's auc: 0.763835\tvalid_0's binary_logloss: 0.246034\n",
      "[159]\tvalid_0's auc: 0.76381\tvalid_0's binary_logloss: 0.246036\n",
      "[160]\tvalid_0's auc: 0.76388\tvalid_0's binary_logloss: 0.246005\n",
      "[161]\tvalid_0's auc: 0.763877\tvalid_0's binary_logloss: 0.246015\n",
      "[162]\tvalid_0's auc: 0.763987\tvalid_0's binary_logloss: 0.245989\n",
      "[163]\tvalid_0's auc: 0.763986\tvalid_0's binary_logloss: 0.245983\n",
      "[164]\tvalid_0's auc: 0.763938\tvalid_0's binary_logloss: 0.246001\n",
      "[165]\tvalid_0's auc: 0.763886\tvalid_0's binary_logloss: 0.246011\n",
      "[166]\tvalid_0's auc: 0.763958\tvalid_0's binary_logloss: 0.245993\n",
      "[167]\tvalid_0's auc: 0.763981\tvalid_0's binary_logloss: 0.245984\n",
      "[168]\tvalid_0's auc: 0.76401\tvalid_0's binary_logloss: 0.245987\n",
      "[169]\tvalid_0's auc: 0.764087\tvalid_0's binary_logloss: 0.245966\n",
      "[170]\tvalid_0's auc: 0.763993\tvalid_0's binary_logloss: 0.245982\n",
      "[171]\tvalid_0's auc: 0.764125\tvalid_0's binary_logloss: 0.245937\n",
      "[172]\tvalid_0's auc: 0.764094\tvalid_0's binary_logloss: 0.245937\n",
      "[173]\tvalid_0's auc: 0.764032\tvalid_0's binary_logloss: 0.245949\n",
      "[174]\tvalid_0's auc: 0.76396\tvalid_0's binary_logloss: 0.245971\n",
      "[175]\tvalid_0's auc: 0.763934\tvalid_0's binary_logloss: 0.245976\n",
      "[176]\tvalid_0's auc: 0.763899\tvalid_0's binary_logloss: 0.245981\n",
      "[177]\tvalid_0's auc: 0.763847\tvalid_0's binary_logloss: 0.245995\n",
      "[178]\tvalid_0's auc: 0.763818\tvalid_0's binary_logloss: 0.245996\n",
      "[179]\tvalid_0's auc: 0.763786\tvalid_0's binary_logloss: 0.246011\n",
      "[180]\tvalid_0's auc: 0.763777\tvalid_0's binary_logloss: 0.246015\n",
      "[181]\tvalid_0's auc: 0.763759\tvalid_0's binary_logloss: 0.246027\n",
      "[182]\tvalid_0's auc: 0.763824\tvalid_0's binary_logloss: 0.246011\n",
      "[183]\tvalid_0's auc: 0.763774\tvalid_0's binary_logloss: 0.246026\n",
      "[184]\tvalid_0's auc: 0.763728\tvalid_0's binary_logloss: 0.246042\n",
      "[185]\tvalid_0's auc: 0.763773\tvalid_0's binary_logloss: 0.246024\n",
      "[186]\tvalid_0's auc: 0.763763\tvalid_0's binary_logloss: 0.246031\n",
      "[187]\tvalid_0's auc: 0.763701\tvalid_0's binary_logloss: 0.246052\n",
      "[188]\tvalid_0's auc: 0.763702\tvalid_0's binary_logloss: 0.246045\n",
      "[189]\tvalid_0's auc: 0.763652\tvalid_0's binary_logloss: 0.246057\n",
      "[190]\tvalid_0's auc: 0.763693\tvalid_0's binary_logloss: 0.246048\n",
      "[191]\tvalid_0's auc: 0.763731\tvalid_0's binary_logloss: 0.246041\n",
      "[192]\tvalid_0's auc: 0.763759\tvalid_0's binary_logloss: 0.246033\n",
      "[193]\tvalid_0's auc: 0.763727\tvalid_0's binary_logloss: 0.246045\n",
      "[194]\tvalid_0's auc: 0.763699\tvalid_0's binary_logloss: 0.246059\n"
     ]
    },
    {
     "name": "stderr",
     "output_type": "stream",
     "text": [
      "/opt/conda/lib/python3.7/site-packages/lightgbm/sklearn.py:726: UserWarning: 'early_stopping_rounds' argument is deprecated and will be removed in a future release of LightGBM. Pass 'early_stopping()' callback via 'callbacks' argument instead.\n",
      "  _log_warning(\"'early_stopping_rounds' argument is deprecated and will be removed in a future release of LightGBM. \"\n"
     ]
    },
    {
     "name": "stdout",
     "output_type": "stream",
     "text": [
      "[1]\tvalid_0's auc: 0.722171\tvalid_0's binary_logloss: 0.275943\n",
      "[2]\tvalid_0's auc: 0.727329\tvalid_0's binary_logloss: 0.27165\n",
      "[3]\tvalid_0's auc: 0.730016\tvalid_0's binary_logloss: 0.268299\n",
      "[4]\tvalid_0's auc: 0.731325\tvalid_0's binary_logloss: 0.265649\n",
      "[5]\tvalid_0's auc: 0.734038\tvalid_0's binary_logloss: 0.263477\n",
      "[6]\tvalid_0's auc: 0.735976\tvalid_0's binary_logloss: 0.261652\n",
      "[7]\tvalid_0's auc: 0.737121\tvalid_0's binary_logloss: 0.260141\n",
      "[8]\tvalid_0's auc: 0.738013\tvalid_0's binary_logloss: 0.258905\n",
      "[9]\tvalid_0's auc: 0.73946\tvalid_0's binary_logloss: 0.257753\n",
      "[10]\tvalid_0's auc: 0.73999\tvalid_0's binary_logloss: 0.25682\n",
      "[11]\tvalid_0's auc: 0.742128\tvalid_0's binary_logloss: 0.255882\n",
      "[12]\tvalid_0's auc: 0.74297\tvalid_0's binary_logloss: 0.255139\n",
      "[13]\tvalid_0's auc: 0.744204\tvalid_0's binary_logloss: 0.254454\n",
      "[14]\tvalid_0's auc: 0.745127\tvalid_0's binary_logloss: 0.253846\n",
      "[15]\tvalid_0's auc: 0.74622\tvalid_0's binary_logloss: 0.253296\n",
      "[16]\tvalid_0's auc: 0.746856\tvalid_0's binary_logloss: 0.25281\n",
      "[17]\tvalid_0's auc: 0.747321\tvalid_0's binary_logloss: 0.25239\n",
      "[18]\tvalid_0's auc: 0.747884\tvalid_0's binary_logloss: 0.25204\n",
      "[19]\tvalid_0's auc: 0.748244\tvalid_0's binary_logloss: 0.251745\n",
      "[20]\tvalid_0's auc: 0.748572\tvalid_0's binary_logloss: 0.251457\n",
      "[21]\tvalid_0's auc: 0.749162\tvalid_0's binary_logloss: 0.251162\n",
      "[22]\tvalid_0's auc: 0.749778\tvalid_0's binary_logloss: 0.250868\n",
      "[23]\tvalid_0's auc: 0.750689\tvalid_0's binary_logloss: 0.250557\n",
      "[24]\tvalid_0's auc: 0.751436\tvalid_0's binary_logloss: 0.250261\n",
      "[25]\tvalid_0's auc: 0.751975\tvalid_0's binary_logloss: 0.250055\n",
      "[26]\tvalid_0's auc: 0.752196\tvalid_0's binary_logloss: 0.249906\n",
      "[27]\tvalid_0's auc: 0.753492\tvalid_0's binary_logloss: 0.249547\n",
      "[28]\tvalid_0's auc: 0.754144\tvalid_0's binary_logloss: 0.249318\n",
      "[29]\tvalid_0's auc: 0.754659\tvalid_0's binary_logloss: 0.249105\n",
      "[30]\tvalid_0's auc: 0.755432\tvalid_0's binary_logloss: 0.248875\n",
      "[31]\tvalid_0's auc: 0.755987\tvalid_0's binary_logloss: 0.248685\n",
      "[32]\tvalid_0's auc: 0.756204\tvalid_0's binary_logloss: 0.24857\n",
      "[33]\tvalid_0's auc: 0.756416\tvalid_0's binary_logloss: 0.248468\n",
      "[34]\tvalid_0's auc: 0.757444\tvalid_0's binary_logloss: 0.248191\n",
      "[35]\tvalid_0's auc: 0.758052\tvalid_0's binary_logloss: 0.247995\n",
      "[36]\tvalid_0's auc: 0.758369\tvalid_0's binary_logloss: 0.24789\n",
      "[37]\tvalid_0's auc: 0.758493\tvalid_0's binary_logloss: 0.247813\n",
      "[38]\tvalid_0's auc: 0.75884\tvalid_0's binary_logloss: 0.24771\n",
      "[39]\tvalid_0's auc: 0.758971\tvalid_0's binary_logloss: 0.247634\n",
      "[40]\tvalid_0's auc: 0.759173\tvalid_0's binary_logloss: 0.247558\n",
      "[41]\tvalid_0's auc: 0.759327\tvalid_0's binary_logloss: 0.247489\n",
      "[42]\tvalid_0's auc: 0.759638\tvalid_0's binary_logloss: 0.247373\n",
      "[43]\tvalid_0's auc: 0.760008\tvalid_0's binary_logloss: 0.247268\n",
      "[44]\tvalid_0's auc: 0.760246\tvalid_0's binary_logloss: 0.247189\n",
      "[45]\tvalid_0's auc: 0.760628\tvalid_0's binary_logloss: 0.247064\n",
      "[46]\tvalid_0's auc: 0.760681\tvalid_0's binary_logloss: 0.247035\n",
      "[47]\tvalid_0's auc: 0.760854\tvalid_0's binary_logloss: 0.24698\n",
      "[48]\tvalid_0's auc: 0.761109\tvalid_0's binary_logloss: 0.246902\n",
      "[49]\tvalid_0's auc: 0.761322\tvalid_0's binary_logloss: 0.246829\n",
      "[50]\tvalid_0's auc: 0.761539\tvalid_0's binary_logloss: 0.246756\n",
      "[51]\tvalid_0's auc: 0.761887\tvalid_0's binary_logloss: 0.246678\n",
      "[52]\tvalid_0's auc: 0.762114\tvalid_0's binary_logloss: 0.246599\n",
      "[53]\tvalid_0's auc: 0.76232\tvalid_0's binary_logloss: 0.246534\n",
      "[54]\tvalid_0's auc: 0.762463\tvalid_0's binary_logloss: 0.246489\n",
      "[55]\tvalid_0's auc: 0.762671\tvalid_0's binary_logloss: 0.246445\n",
      "[56]\tvalid_0's auc: 0.763015\tvalid_0's binary_logloss: 0.246353\n",
      "[57]\tvalid_0's auc: 0.763209\tvalid_0's binary_logloss: 0.246299\n",
      "[58]\tvalid_0's auc: 0.76342\tvalid_0's binary_logloss: 0.246235\n",
      "[59]\tvalid_0's auc: 0.763995\tvalid_0's binary_logloss: 0.246059\n",
      "[60]\tvalid_0's auc: 0.764132\tvalid_0's binary_logloss: 0.246016\n",
      "[61]\tvalid_0's auc: 0.764206\tvalid_0's binary_logloss: 0.245998\n",
      "[62]\tvalid_0's auc: 0.764443\tvalid_0's binary_logloss: 0.245923\n",
      "[63]\tvalid_0's auc: 0.764728\tvalid_0's binary_logloss: 0.245848\n",
      "[64]\tvalid_0's auc: 0.764819\tvalid_0's binary_logloss: 0.245813\n",
      "[65]\tvalid_0's auc: 0.764855\tvalid_0's binary_logloss: 0.245771\n",
      "[66]\tvalid_0's auc: 0.765025\tvalid_0's binary_logloss: 0.245711\n",
      "[67]\tvalid_0's auc: 0.764935\tvalid_0's binary_logloss: 0.245728\n",
      "[68]\tvalid_0's auc: 0.765013\tvalid_0's binary_logloss: 0.245694\n",
      "[69]\tvalid_0's auc: 0.764975\tvalid_0's binary_logloss: 0.245698\n",
      "[70]\tvalid_0's auc: 0.765181\tvalid_0's binary_logloss: 0.245605\n",
      "[71]\tvalid_0's auc: 0.765156\tvalid_0's binary_logloss: 0.24561\n",
      "[72]\tvalid_0's auc: 0.765176\tvalid_0's binary_logloss: 0.245601\n",
      "[73]\tvalid_0's auc: 0.765276\tvalid_0's binary_logloss: 0.245554\n",
      "[74]\tvalid_0's auc: 0.765201\tvalid_0's binary_logloss: 0.245567\n",
      "[75]\tvalid_0's auc: 0.765243\tvalid_0's binary_logloss: 0.245565\n",
      "[76]\tvalid_0's auc: 0.765274\tvalid_0's binary_logloss: 0.245568\n",
      "[77]\tvalid_0's auc: 0.765426\tvalid_0's binary_logloss: 0.245531\n",
      "[78]\tvalid_0's auc: 0.765598\tvalid_0's binary_logloss: 0.245484\n",
      "[79]\tvalid_0's auc: 0.765634\tvalid_0's binary_logloss: 0.245474\n",
      "[80]\tvalid_0's auc: 0.765706\tvalid_0's binary_logloss: 0.245447\n",
      "[81]\tvalid_0's auc: 0.7657\tvalid_0's binary_logloss: 0.245428\n",
      "[82]\tvalid_0's auc: 0.765677\tvalid_0's binary_logloss: 0.24543\n",
      "[83]\tvalid_0's auc: 0.765651\tvalid_0's binary_logloss: 0.245433\n",
      "[84]\tvalid_0's auc: 0.765707\tvalid_0's binary_logloss: 0.245412\n",
      "[85]\tvalid_0's auc: 0.765589\tvalid_0's binary_logloss: 0.245433\n",
      "[86]\tvalid_0's auc: 0.765536\tvalid_0's binary_logloss: 0.245444\n",
      "[87]\tvalid_0's auc: 0.765541\tvalid_0's binary_logloss: 0.245437\n",
      "[88]\tvalid_0's auc: 0.765612\tvalid_0's binary_logloss: 0.245397\n",
      "[89]\tvalid_0's auc: 0.765671\tvalid_0's binary_logloss: 0.245377\n",
      "[90]\tvalid_0's auc: 0.765651\tvalid_0's binary_logloss: 0.245377\n",
      "[91]\tvalid_0's auc: 0.765568\tvalid_0's binary_logloss: 0.245406\n",
      "[92]\tvalid_0's auc: 0.765597\tvalid_0's binary_logloss: 0.245391\n",
      "[93]\tvalid_0's auc: 0.765751\tvalid_0's binary_logloss: 0.245352\n",
      "[94]\tvalid_0's auc: 0.765798\tvalid_0's binary_logloss: 0.245342\n",
      "[95]\tvalid_0's auc: 0.765804\tvalid_0's binary_logloss: 0.24534\n",
      "[96]\tvalid_0's auc: 0.765861\tvalid_0's binary_logloss: 0.245333\n",
      "[97]\tvalid_0's auc: 0.765965\tvalid_0's binary_logloss: 0.245301\n",
      "[98]\tvalid_0's auc: 0.765916\tvalid_0's binary_logloss: 0.245301\n",
      "[99]\tvalid_0's auc: 0.765923\tvalid_0's binary_logloss: 0.245302\n",
      "[100]\tvalid_0's auc: 0.765928\tvalid_0's binary_logloss: 0.245296\n",
      "[101]\tvalid_0's auc: 0.766012\tvalid_0's binary_logloss: 0.245263\n",
      "[102]\tvalid_0's auc: 0.766117\tvalid_0's binary_logloss: 0.245234\n",
      "[103]\tvalid_0's auc: 0.766123\tvalid_0's binary_logloss: 0.245225\n",
      "[104]\tvalid_0's auc: 0.766116\tvalid_0's binary_logloss: 0.245225\n",
      "[105]\tvalid_0's auc: 0.766499\tvalid_0's binary_logloss: 0.245111\n",
      "[106]\tvalid_0's auc: 0.76645\tvalid_0's binary_logloss: 0.245117\n",
      "[107]\tvalid_0's auc: 0.766445\tvalid_0's binary_logloss: 0.245118\n",
      "[108]\tvalid_0's auc: 0.766423\tvalid_0's binary_logloss: 0.245128\n",
      "[109]\tvalid_0's auc: 0.766451\tvalid_0's binary_logloss: 0.245126\n",
      "[110]\tvalid_0's auc: 0.766414\tvalid_0's binary_logloss: 0.245125\n",
      "[111]\tvalid_0's auc: 0.766299\tvalid_0's binary_logloss: 0.245152\n",
      "[112]\tvalid_0's auc: 0.766342\tvalid_0's binary_logloss: 0.245152\n",
      "[113]\tvalid_0's auc: 0.766369\tvalid_0's binary_logloss: 0.245145\n",
      "[114]\tvalid_0's auc: 0.766325\tvalid_0's binary_logloss: 0.245153\n",
      "[115]\tvalid_0's auc: 0.766398\tvalid_0's binary_logloss: 0.245132\n",
      "[116]\tvalid_0's auc: 0.766487\tvalid_0's binary_logloss: 0.245112\n",
      "[117]\tvalid_0's auc: 0.766474\tvalid_0's binary_logloss: 0.245104\n",
      "[118]\tvalid_0's auc: 0.766571\tvalid_0's binary_logloss: 0.245086\n",
      "[119]\tvalid_0's auc: 0.766514\tvalid_0's binary_logloss: 0.245097\n",
      "[120]\tvalid_0's auc: 0.766437\tvalid_0's binary_logloss: 0.245113\n",
      "[121]\tvalid_0's auc: 0.766503\tvalid_0's binary_logloss: 0.245096\n",
      "[122]\tvalid_0's auc: 0.766517\tvalid_0's binary_logloss: 0.245096\n",
      "[123]\tvalid_0's auc: 0.766465\tvalid_0's binary_logloss: 0.245109\n",
      "[124]\tvalid_0's auc: 0.766403\tvalid_0's binary_logloss: 0.245126\n",
      "[125]\tvalid_0's auc: 0.766394\tvalid_0's binary_logloss: 0.245111\n",
      "[126]\tvalid_0's auc: 0.766513\tvalid_0's binary_logloss: 0.245068\n",
      "[127]\tvalid_0's auc: 0.766639\tvalid_0's binary_logloss: 0.245034\n",
      "[128]\tvalid_0's auc: 0.766666\tvalid_0's binary_logloss: 0.245029\n",
      "[129]\tvalid_0's auc: 0.766762\tvalid_0's binary_logloss: 0.244994\n",
      "[130]\tvalid_0's auc: 0.76677\tvalid_0's binary_logloss: 0.245\n",
      "[131]\tvalid_0's auc: 0.766681\tvalid_0's binary_logloss: 0.245022\n",
      "[132]\tvalid_0's auc: 0.766634\tvalid_0's binary_logloss: 0.245035\n",
      "[133]\tvalid_0's auc: 0.766617\tvalid_0's binary_logloss: 0.24503\n",
      "[134]\tvalid_0's auc: 0.766643\tvalid_0's binary_logloss: 0.245011\n",
      "[135]\tvalid_0's auc: 0.766635\tvalid_0's binary_logloss: 0.24501\n",
      "[136]\tvalid_0's auc: 0.766649\tvalid_0's binary_logloss: 0.245014\n",
      "[137]\tvalid_0's auc: 0.766607\tvalid_0's binary_logloss: 0.245021\n",
      "[138]\tvalid_0's auc: 0.766817\tvalid_0's binary_logloss: 0.24497\n",
      "[139]\tvalid_0's auc: 0.766764\tvalid_0's binary_logloss: 0.244991\n",
      "[140]\tvalid_0's auc: 0.766739\tvalid_0's binary_logloss: 0.244995\n",
      "[141]\tvalid_0's auc: 0.766724\tvalid_0's binary_logloss: 0.245\n",
      "[142]\tvalid_0's auc: 0.766867\tvalid_0's binary_logloss: 0.244977\n",
      "[143]\tvalid_0's auc: 0.76691\tvalid_0's binary_logloss: 0.24497\n",
      "[144]\tvalid_0's auc: 0.766915\tvalid_0's binary_logloss: 0.244978\n",
      "[145]\tvalid_0's auc: 0.766841\tvalid_0's binary_logloss: 0.245003\n",
      "[146]\tvalid_0's auc: 0.766874\tvalid_0's binary_logloss: 0.244997\n",
      "[147]\tvalid_0's auc: 0.766862\tvalid_0's binary_logloss: 0.245004\n",
      "[148]\tvalid_0's auc: 0.766842\tvalid_0's binary_logloss: 0.245014\n",
      "[149]\tvalid_0's auc: 0.766801\tvalid_0's binary_logloss: 0.245023\n",
      "[150]\tvalid_0's auc: 0.766825\tvalid_0's binary_logloss: 0.245016\n",
      "[151]\tvalid_0's auc: 0.766822\tvalid_0's binary_logloss: 0.24503\n",
      "[152]\tvalid_0's auc: 0.766883\tvalid_0's binary_logloss: 0.245008\n",
      "[153]\tvalid_0's auc: 0.766877\tvalid_0's binary_logloss: 0.245018\n",
      "[154]\tvalid_0's auc: 0.767016\tvalid_0's binary_logloss: 0.24499\n",
      "[155]\tvalid_0's auc: 0.767028\tvalid_0's binary_logloss: 0.24499\n",
      "[156]\tvalid_0's auc: 0.766912\tvalid_0's binary_logloss: 0.245025\n",
      "[157]\tvalid_0's auc: 0.766976\tvalid_0's binary_logloss: 0.245014\n",
      "[158]\tvalid_0's auc: 0.766947\tvalid_0's binary_logloss: 0.245021\n",
      "[159]\tvalid_0's auc: 0.766886\tvalid_0's binary_logloss: 0.245053\n",
      "[160]\tvalid_0's auc: 0.767059\tvalid_0's binary_logloss: 0.245008\n",
      "[161]\tvalid_0's auc: 0.767048\tvalid_0's binary_logloss: 0.244997\n",
      "[162]\tvalid_0's auc: 0.767013\tvalid_0's binary_logloss: 0.245003\n",
      "[163]\tvalid_0's auc: 0.767148\tvalid_0's binary_logloss: 0.244964\n",
      "[164]\tvalid_0's auc: 0.767117\tvalid_0's binary_logloss: 0.244991\n",
      "[165]\tvalid_0's auc: 0.767237\tvalid_0's binary_logloss: 0.244968\n",
      "[166]\tvalid_0's auc: 0.767226\tvalid_0's binary_logloss: 0.244979\n",
      "[167]\tvalid_0's auc: 0.767191\tvalid_0's binary_logloss: 0.24499\n",
      "[168]\tvalid_0's auc: 0.76711\tvalid_0's binary_logloss: 0.245027\n",
      "[169]\tvalid_0's auc: 0.767055\tvalid_0's binary_logloss: 0.245038\n",
      "[170]\tvalid_0's auc: 0.767004\tvalid_0's binary_logloss: 0.245065\n",
      "[171]\tvalid_0's auc: 0.767042\tvalid_0's binary_logloss: 0.245075\n",
      "[172]\tvalid_0's auc: 0.767097\tvalid_0's binary_logloss: 0.245072\n",
      "[173]\tvalid_0's auc: 0.767156\tvalid_0's binary_logloss: 0.245059\n",
      "[174]\tvalid_0's auc: 0.767194\tvalid_0's binary_logloss: 0.245058\n",
      "[175]\tvalid_0's auc: 0.767204\tvalid_0's binary_logloss: 0.245044\n",
      "[176]\tvalid_0's auc: 0.767295\tvalid_0's binary_logloss: 0.245026\n",
      "[177]\tvalid_0's auc: 0.767368\tvalid_0's binary_logloss: 0.245003\n",
      "[178]\tvalid_0's auc: 0.767379\tvalid_0's binary_logloss: 0.245006\n",
      "[179]\tvalid_0's auc: 0.767356\tvalid_0's binary_logloss: 0.245012\n",
      "[180]\tvalid_0's auc: 0.767303\tvalid_0's binary_logloss: 0.24503\n",
      "[181]\tvalid_0's auc: 0.767298\tvalid_0's binary_logloss: 0.245022\n",
      "[182]\tvalid_0's auc: 0.767317\tvalid_0's binary_logloss: 0.245026\n",
      "[183]\tvalid_0's auc: 0.767348\tvalid_0's binary_logloss: 0.24501\n",
      "[184]\tvalid_0's auc: 0.76731\tvalid_0's binary_logloss: 0.245017\n",
      "[185]\tvalid_0's auc: 0.767308\tvalid_0's binary_logloss: 0.245019\n",
      "[186]\tvalid_0's auc: 0.767344\tvalid_0's binary_logloss: 0.245012\n",
      "[187]\tvalid_0's auc: 0.767387\tvalid_0's binary_logloss: 0.244992\n",
      "[188]\tvalid_0's auc: 0.767403\tvalid_0's binary_logloss: 0.244984\n",
      "[189]\tvalid_0's auc: 0.767425\tvalid_0's binary_logloss: 0.244966\n",
      "[190]\tvalid_0's auc: 0.767432\tvalid_0's binary_logloss: 0.244973\n",
      "[191]\tvalid_0's auc: 0.767653\tvalid_0's binary_logloss: 0.244898\n",
      "[192]\tvalid_0's auc: 0.767662\tvalid_0's binary_logloss: 0.244878\n",
      "[193]\tvalid_0's auc: 0.767634\tvalid_0's binary_logloss: 0.244889\n",
      "[194]\tvalid_0's auc: 0.767643\tvalid_0's binary_logloss: 0.244888\n",
      "[195]\tvalid_0's auc: 0.767652\tvalid_0's binary_logloss: 0.244904\n",
      "[196]\tvalid_0's auc: 0.767625\tvalid_0's binary_logloss: 0.244904\n",
      "[197]\tvalid_0's auc: 0.767613\tvalid_0's binary_logloss: 0.244915\n",
      "[198]\tvalid_0's auc: 0.767542\tvalid_0's binary_logloss: 0.244941\n",
      "[199]\tvalid_0's auc: 0.767543\tvalid_0's binary_logloss: 0.244939\n",
      "[200]\tvalid_0's auc: 0.767575\tvalid_0's binary_logloss: 0.244918\n",
      "[201]\tvalid_0's auc: 0.767568\tvalid_0's binary_logloss: 0.244918\n",
      "[202]\tvalid_0's auc: 0.767513\tvalid_0's binary_logloss: 0.24493\n",
      "[203]\tvalid_0's auc: 0.767437\tvalid_0's binary_logloss: 0.244957\n",
      "[204]\tvalid_0's auc: 0.767414\tvalid_0's binary_logloss: 0.244977\n",
      "[205]\tvalid_0's auc: 0.767477\tvalid_0's binary_logloss: 0.244962\n",
      "[206]\tvalid_0's auc: 0.76749\tvalid_0's binary_logloss: 0.244955\n",
      "[207]\tvalid_0's auc: 0.767401\tvalid_0's binary_logloss: 0.244986\n",
      "[208]\tvalid_0's auc: 0.7674\tvalid_0's binary_logloss: 0.24498\n",
      "[209]\tvalid_0's auc: 0.767327\tvalid_0's binary_logloss: 0.245002\n",
      "[210]\tvalid_0's auc: 0.767258\tvalid_0's binary_logloss: 0.245011\n",
      "[211]\tvalid_0's auc: 0.767213\tvalid_0's binary_logloss: 0.245026\n",
      "[212]\tvalid_0's auc: 0.767159\tvalid_0's binary_logloss: 0.245053\n",
      "[213]\tvalid_0's auc: 0.76711\tvalid_0's binary_logloss: 0.24507\n",
      "[214]\tvalid_0's auc: 0.767032\tvalid_0's binary_logloss: 0.245087\n",
      "[215]\tvalid_0's auc: 0.767097\tvalid_0's binary_logloss: 0.245076\n",
      "[216]\tvalid_0's auc: 0.767064\tvalid_0's binary_logloss: 0.245089\n",
      "[217]\tvalid_0's auc: 0.767022\tvalid_0's binary_logloss: 0.245121\n",
      "[218]\tvalid_0's auc: 0.766938\tvalid_0's binary_logloss: 0.245152\n",
      "[219]\tvalid_0's auc: 0.766918\tvalid_0's binary_logloss: 0.245152\n",
      "[220]\tvalid_0's auc: 0.76686\tvalid_0's binary_logloss: 0.245173\n",
      "[221]\tvalid_0's auc: 0.76676\tvalid_0's binary_logloss: 0.245196\n",
      "[222]\tvalid_0's auc: 0.766745\tvalid_0's binary_logloss: 0.2452\n",
      "[223]\tvalid_0's auc: 0.766775\tvalid_0's binary_logloss: 0.245194\n",
      "[224]\tvalid_0's auc: 0.766889\tvalid_0's binary_logloss: 0.24517\n",
      "[225]\tvalid_0's auc: 0.766807\tvalid_0's binary_logloss: 0.245193\n",
      "[226]\tvalid_0's auc: 0.766767\tvalid_0's binary_logloss: 0.245204\n",
      "[227]\tvalid_0's auc: 0.766745\tvalid_0's binary_logloss: 0.245206\n",
      "[228]\tvalid_0's auc: 0.766688\tvalid_0's binary_logloss: 0.245218\n",
      "[229]\tvalid_0's auc: 0.766582\tvalid_0's binary_logloss: 0.245248\n",
      "[230]\tvalid_0's auc: 0.766516\tvalid_0's binary_logloss: 0.24526\n",
      "[231]\tvalid_0's auc: 0.766463\tvalid_0's binary_logloss: 0.24527\n",
      "[232]\tvalid_0's auc: 0.766527\tvalid_0's binary_logloss: 0.245267\n",
      "[233]\tvalid_0's auc: 0.766425\tvalid_0's binary_logloss: 0.245304\n",
      "[234]\tvalid_0's auc: 0.766351\tvalid_0's binary_logloss: 0.245318\n",
      "[235]\tvalid_0's auc: 0.766388\tvalid_0's binary_logloss: 0.245312\n",
      "[236]\tvalid_0's auc: 0.766331\tvalid_0's binary_logloss: 0.24533\n",
      "[237]\tvalid_0's auc: 0.766346\tvalid_0's binary_logloss: 0.245326\n",
      "[238]\tvalid_0's auc: 0.766267\tvalid_0's binary_logloss: 0.245354\n",
      "[239]\tvalid_0's auc: 0.766215\tvalid_0's binary_logloss: 0.245362\n",
      "[240]\tvalid_0's auc: 0.766256\tvalid_0's binary_logloss: 0.245348\n",
      "[241]\tvalid_0's auc: 0.766235\tvalid_0's binary_logloss: 0.245353\n",
      "[242]\tvalid_0's auc: 0.766203\tvalid_0's binary_logloss: 0.245359\n",
      "[243]\tvalid_0's auc: 0.766147\tvalid_0's binary_logloss: 0.245368\n",
      "[244]\tvalid_0's auc: 0.766205\tvalid_0's binary_logloss: 0.245356\n",
      "[245]\tvalid_0's auc: 0.766122\tvalid_0's binary_logloss: 0.245377\n",
      "[246]\tvalid_0's auc: 0.766115\tvalid_0's binary_logloss: 0.245376\n",
      "[247]\tvalid_0's auc: 0.766322\tvalid_0's binary_logloss: 0.245332\n",
      "[248]\tvalid_0's auc: 0.766342\tvalid_0's binary_logloss: 0.245333\n",
      "[249]\tvalid_0's auc: 0.76635\tvalid_0's binary_logloss: 0.245324\n",
      "[250]\tvalid_0's auc: 0.766378\tvalid_0's binary_logloss: 0.245318\n",
      "[251]\tvalid_0's auc: 0.766388\tvalid_0's binary_logloss: 0.245328\n",
      "[252]\tvalid_0's auc: 0.766416\tvalid_0's binary_logloss: 0.245329\n",
      "[253]\tvalid_0's auc: 0.766343\tvalid_0's binary_logloss: 0.245344\n",
      "[254]\tvalid_0's auc: 0.766328\tvalid_0's binary_logloss: 0.245352\n",
      "[255]\tvalid_0's auc: 0.766276\tvalid_0's binary_logloss: 0.245361\n",
      "[256]\tvalid_0's auc: 0.766311\tvalid_0's binary_logloss: 0.245354\n",
      "[257]\tvalid_0's auc: 0.766273\tvalid_0's binary_logloss: 0.245364\n",
      "[258]\tvalid_0's auc: 0.766297\tvalid_0's binary_logloss: 0.245352\n",
      "[259]\tvalid_0's auc: 0.766267\tvalid_0's binary_logloss: 0.245357\n",
      "[260]\tvalid_0's auc: 0.766244\tvalid_0's binary_logloss: 0.245366\n",
      "[261]\tvalid_0's auc: 0.766209\tvalid_0's binary_logloss: 0.245383\n",
      "[262]\tvalid_0's auc: 0.76623\tvalid_0's binary_logloss: 0.245384\n",
      "[263]\tvalid_0's auc: 0.766267\tvalid_0's binary_logloss: 0.245371\n",
      "[264]\tvalid_0's auc: 0.766265\tvalid_0's binary_logloss: 0.24537\n",
      "[265]\tvalid_0's auc: 0.766203\tvalid_0's binary_logloss: 0.245391\n",
      "[266]\tvalid_0's auc: 0.766182\tvalid_0's binary_logloss: 0.245389\n",
      "[267]\tvalid_0's auc: 0.766137\tvalid_0's binary_logloss: 0.245402\n",
      "[268]\tvalid_0's auc: 0.766162\tvalid_0's binary_logloss: 0.245403\n",
      "[269]\tvalid_0's auc: 0.766124\tvalid_0's binary_logloss: 0.245413\n",
      "[270]\tvalid_0's auc: 0.766147\tvalid_0's binary_logloss: 0.245416\n",
      "[271]\tvalid_0's auc: 0.766126\tvalid_0's binary_logloss: 0.245429\n",
      "[272]\tvalid_0's auc: 0.766135\tvalid_0's binary_logloss: 0.245424\n",
      "[273]\tvalid_0's auc: 0.76604\tvalid_0's binary_logloss: 0.245441\n",
      "[274]\tvalid_0's auc: 0.766007\tvalid_0's binary_logloss: 0.245451\n",
      "[275]\tvalid_0's auc: 0.766063\tvalid_0's binary_logloss: 0.245423\n",
      "[276]\tvalid_0's auc: 0.766055\tvalid_0's binary_logloss: 0.245416\n",
      "[277]\tvalid_0's auc: 0.766033\tvalid_0's binary_logloss: 0.245421\n",
      "[278]\tvalid_0's auc: 0.765977\tvalid_0's binary_logloss: 0.245432\n",
      "[279]\tvalid_0's auc: 0.765904\tvalid_0's binary_logloss: 0.24545\n",
      "[280]\tvalid_0's auc: 0.765884\tvalid_0's binary_logloss: 0.245449\n",
      "[281]\tvalid_0's auc: 0.765966\tvalid_0's binary_logloss: 0.245433\n",
      "[282]\tvalid_0's auc: 0.766013\tvalid_0's binary_logloss: 0.245418\n",
      "[283]\tvalid_0's auc: 0.766061\tvalid_0's binary_logloss: 0.24542\n",
      "[284]\tvalid_0's auc: 0.766034\tvalid_0's binary_logloss: 0.245429\n",
      "[285]\tvalid_0's auc: 0.765985\tvalid_0's binary_logloss: 0.245444\n",
      "[286]\tvalid_0's auc: 0.766017\tvalid_0's binary_logloss: 0.245438\n",
      "[287]\tvalid_0's auc: 0.766048\tvalid_0's binary_logloss: 0.245431\n",
      "[288]\tvalid_0's auc: 0.766007\tvalid_0's binary_logloss: 0.245447\n",
      "[289]\tvalid_0's auc: 0.765978\tvalid_0's binary_logloss: 0.245465\n",
      "[290]\tvalid_0's auc: 0.76592\tvalid_0's binary_logloss: 0.245483\n",
      "[291]\tvalid_0's auc: 0.765973\tvalid_0's binary_logloss: 0.245457\n",
      "[292]\tvalid_0's auc: 0.765901\tvalid_0's binary_logloss: 0.245473\n"
     ]
    }
   ],
   "source": [
    "train = df\n",
    "\n",
    "from sklearn.metrics import roc_auc_score\n",
    "\n",
    "\n",
    "import lightgbm as lgb\n",
    "from sklearn.model_selection import StratifiedKFold\n",
    "from sklearn.metrics import mean_squared_error\n",
    "from sklearn.metrics import mean_squared_log_error\n",
    "from sklearn.metrics import roc_auc_score\n",
    "\n",
    "\n",
    "clf = lgb.LGBMClassifier(random_state=1, num_leaves=30, objective='binary', n_estimators=500)\n",
    "\n",
    "X = train.drop(columns = ['SK_ID_CURR',\t'TARGET','FLAG_MOBIL', 'FLAG_EMP_PHONE', 'FLAG_OWN_CAR', 'FLAG_DOCUMENT_15',\n",
    "       'REG_REGION_NOT_LIVE_REGION', 'FLAG_DOCUMENT_21', 'FLAG_DOCUMENT_20',\n",
    "       'FLAG_DOCUMENT_19', 'FLAG_DOCUMENT_17', 'FLAG_DOCUMENT_14',\n",
    "       'FLAG_DOCUMENT_12', 'FLAG_DOCUMENT_10', 'FLAG_DOCUMENT_7',\n",
    "       'FLAG_DOCUMENT_2', 'ELEVATORS_MEDI', 'EMERGENCYSTATE_MODE',\n",
    "       'FLAG_DOCUMENT_4']).values\n",
    "z = test.drop(columns = ['SK_ID_CURR','FLAG_MOBIL', 'FLAG_EMP_PHONE', 'FLAG_OWN_CAR', 'FLAG_DOCUMENT_15',\n",
    "       'REG_REGION_NOT_LIVE_REGION', 'FLAG_DOCUMENT_21', 'FLAG_DOCUMENT_20',\n",
    "       'FLAG_DOCUMENT_19', 'FLAG_DOCUMENT_17', 'FLAG_DOCUMENT_14',\n",
    "       'FLAG_DOCUMENT_12', 'FLAG_DOCUMENT_10', 'FLAG_DOCUMENT_7',\n",
    "       'FLAG_DOCUMENT_2', 'ELEVATORS_MEDI', 'EMERGENCYSTATE_MODE',\n",
    "       'FLAG_DOCUMENT_4']).values\n",
    "\n",
    "\n",
    "\n",
    "y = train['TARGET'].values\n",
    "\n",
    "kf = StratifiedKFold(n_splits = 5, shuffle=True, random_state = 1)\n",
    "rmse_mean = []\n",
    "\n",
    "pre_test_list = []\n",
    "\n",
    "for train_index, test_index in kf.split(X,y):\n",
    "    \n",
    "\n",
    "\n",
    "\n",
    "    train_x, valid_x = X[train_index], X[test_index]\n",
    "    train_y, valid_y = y[train_index], y[test_index]\n",
    "    \n",
    "    \n",
    "    \n",
    "    clf.fit(X = train_x, y = train_y, eval_set = (valid_x, valid_y) ,eval_metric='auc',early_stopping_rounds=100)\n",
    "    \n",
    "    \n",
    "    \n",
    "    \n",
    "    valid_pre = clf.predict(valid_x)\n",
    "\n",
    "    rmse =roc_auc_score( valid_y, valid_pre)\n",
    "    \n",
    "    rmse_mean.append(rmse)\n",
    "    \n",
    "    pre_test = clf.predict(z)\n",
    "    \n",
    "    pre_test_list.append(pre_test)\n",
    "    \n",
    "    "
   ]
  },
  {
   "cell_type": "code",
   "execution_count": 18,
   "id": "a5e1d9e1",
   "metadata": {
    "execution": {
     "iopub.execute_input": "2022-10-02T10:03:27.657194Z",
     "iopub.status.busy": "2022-10-02T10:03:27.656604Z",
     "iopub.status.idle": "2022-10-02T10:03:27.893082Z",
     "shell.execute_reply": "2022-10-02T10:03:27.891884Z"
    },
    "papermill": {
     "duration": 0.271725,
     "end_time": "2022-10-02T10:03:27.896203",
     "exception": false,
     "start_time": "2022-10-02T10:03:27.624478",
     "status": "completed"
    },
    "tags": [],
    "pycharm": {
     "name": "#%%\n"
    }
   },
   "outputs": [],
   "source": [
    "pre = np.array(pre_test_list).T\n",
    "\n",
    "pre = ([*map(lambda x:np.argmax(np.bincount(x)), pre)])\n",
    "\n",
    "pre_data = pd.DataFrame({'SK_ID_CURR': test['SK_ID_CURR'],'TARGET':pre})\n",
    "\n",
    "pre_data.to_csv('pre_1.csv', index=False)"
   ]
  },
  {
   "cell_type": "code",
   "execution_count": null,
   "id": "2e569852",
   "metadata": {
    "papermill": {
     "duration": 0.0308,
     "end_time": "2022-10-02T10:03:27.958185",
     "exception": false,
     "start_time": "2022-10-02T10:03:27.927385",
     "status": "completed"
    },
    "tags": [],
    "pycharm": {
     "name": "#%%\n"
    }
   },
   "outputs": [],
   "source": []
  }
 ],
 "metadata": {
  "kernelspec": {
   "display_name": "Python 3",
   "language": "python",
   "name": "python3"
  },
  "language_info": {
   "codemirror_mode": {
    "name": "ipython",
    "version": 3
   },
   "file_extension": ".py",
   "mimetype": "text/x-python",
   "name": "python",
   "nbconvert_exporter": "python",
   "pygments_lexer": "ipython3",
   "version": "3.7.12"
  },
  "papermill": {
   "default_parameters": {},
   "duration": 130.089939,
   "end_time": "2022-10-02T10:03:29.117035",
   "environment_variables": {},
   "exception": null,
   "input_path": "__notebook__.ipynb",
   "output_path": "__notebook__.ipynb",
   "parameters": {},
   "start_time": "2022-10-02T10:01:19.027096",
   "version": "2.3.4"
  }
 },
 "nbformat": 4,
 "nbformat_minor": 5
}